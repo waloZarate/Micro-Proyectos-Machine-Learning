{
 "cells": [
  {
   "cell_type": "markdown",
   "id": "fa2d8216-8877-434c-91ed-9274e02436c0",
   "metadata": {},
   "source": [
    "<h1><center>K-Nearest Neighbors</center></h1>\n",
    "- En este micro-proyecto se implementará el algoritmo de clasificación KNN. \n",
    "\n",
    "- Se cargará, ajustará y usará K-Nearest Neighbors para predecir un conjunto de puntos.\n",
    "\n",
    "- **K-Nearest neighbors** es un algoritmo de clasificación para aprendizaje Supervisado. Este algoritmo toma un monton de puntos etiquetados y los utiliza para aprender a etiquetar otros puntos de datos. En **KNN** se dice que los puntos de datos que están cerca unos de otros son vecinos."
   ]
  },
  {
   "cell_type": "markdown",
   "id": "aae9fa2c-829a-49b3-84af-f7860e0b4c7b",
   "metadata": {},
   "source": [
    "### Aqui esta una visualización de el algoritmo K-Nearest Neighbord\n",
    "\n",
    "<img src=\"https://ibm.box.com/shared/static/mgkn92xck0z05v7yjq8pqziukxvc2461.png\">"
   ]
  },
  {
   "cell_type": "markdown",
   "id": "77f67f5a-f849-4f44-a702-4502bdb67b08",
   "metadata": {},
   "source": [
    "- En la gráfica tenemos data points de Clase A y Clase B. Queremos predecir a que clase pertenece el punto central estrella. Si consideramos un valor de K = 3 (3 puntos de datos mas cercanos) ontendremos una predicción de Clase B. Sin embargo, si consideramos un valor de K de 6, obtendremos una prediccion de Clase A. \n",
    "\n",
    "- En este sentido, es importante considerar el valor de K. "
   ]
  },
  {
   "cell_type": "markdown",
   "id": "b617f687-7a9a-4cae-824e-950664c8a0d8",
   "metadata": {},
   "source": [
    "> - ## Vamos a importar las librerias requeridas"
   ]
  },
  {
   "cell_type": "code",
   "execution_count": 1,
   "id": "d000c75a-501e-4fbb-b5aa-6cbbf7c7c5fe",
   "metadata": {},
   "outputs": [],
   "source": [
    "import itertools\n",
    "import numpy as np\n",
    "import matplotlib.pyplot as plt\n",
    "from matplotlib.ticker import NullFormatter\n",
    "import pandas as pd\n",
    "import numpy as np\n",
    "import matplotlib.ticker as ticker\n",
    "from sklearn import preprocessing\n",
    "%matplotlib inline"
   ]
  },
  {
   "cell_type": "markdown",
   "id": "3aef4fc0-60f4-4c82-9763-8949f81e7f88",
   "metadata": {},
   "source": [
    "> - ### Sobre el Dataset\n",
    "\n",
    "- Suponiendo un proveedor de Telecomunicaciones ha segmentado su base de clientes por patrones de uso de servicio, categorizando los clientes en 4 grupos. Si se pueden usar datos demograficos para predecir la pertenencia a un grupo, la empresa puede personalizar las ofertas para clientes con perspectiva individual.\n",
    "- Este es un problema de clasificacion, es decir, dado un dataset con etiquetas predefinidas, necesitamos construir un modelo para predecir la clase de un nuevo o un desconocido caso.\n",
    "\n",
    "- Este ejemplo se enfoca en usar los datos demograficos, tales como region, años, y estado civil, para predecir patrones de uso. El target u objetivo, llamado **custcat**, tiene 4 posibles valores que corresponden a los 4 grupos de clientes, y son los siguientes: \n",
    "\n",
    "1. Basic Service\n",
    "2. E-Service\n",
    "3. Plus Service\n",
    "4. Total Service\n",
    "\n",
    "- Nuestro objetivo es construir un clasificador, para predecir la clase de casos desconocidos. Usaremos un tipo especifico de clasificación llamado K-Nearest Neighbord."
   ]
  },
  {
   "cell_type": "markdown",
   "id": "34449bbb-5afb-4fd9-a221-023e33693bac",
   "metadata": {},
   "source": [
    "> ## Cargamos los datos desde el archivo CSV\n",
    "\n",
    "- Cargamos los datos `teleCust1000t.csv` y vemos las primeras 10 filas"
   ]
  },
  {
   "cell_type": "code",
   "execution_count": 2,
   "id": "9ef76fab-6a2a-4526-a715-587236d5e526",
   "metadata": {},
   "outputs": [
    {
     "data": {
      "text/html": [
       "<div>\n",
       "<style scoped>\n",
       "    .dataframe tbody tr th:only-of-type {\n",
       "        vertical-align: middle;\n",
       "    }\n",
       "\n",
       "    .dataframe tbody tr th {\n",
       "        vertical-align: top;\n",
       "    }\n",
       "\n",
       "    .dataframe thead th {\n",
       "        text-align: right;\n",
       "    }\n",
       "</style>\n",
       "<table border=\"1\" class=\"dataframe\">\n",
       "  <thead>\n",
       "    <tr style=\"text-align: right;\">\n",
       "      <th></th>\n",
       "      <th>region</th>\n",
       "      <th>tenure</th>\n",
       "      <th>age</th>\n",
       "      <th>marital</th>\n",
       "      <th>address</th>\n",
       "      <th>income</th>\n",
       "      <th>ed</th>\n",
       "      <th>employ</th>\n",
       "      <th>retire</th>\n",
       "      <th>gender</th>\n",
       "      <th>reside</th>\n",
       "      <th>custcat</th>\n",
       "    </tr>\n",
       "  </thead>\n",
       "  <tbody>\n",
       "    <tr>\n",
       "      <th>0</th>\n",
       "      <td>2</td>\n",
       "      <td>13</td>\n",
       "      <td>44</td>\n",
       "      <td>1</td>\n",
       "      <td>9</td>\n",
       "      <td>64.0</td>\n",
       "      <td>4</td>\n",
       "      <td>5</td>\n",
       "      <td>0.0</td>\n",
       "      <td>0</td>\n",
       "      <td>2</td>\n",
       "      <td>1</td>\n",
       "    </tr>\n",
       "    <tr>\n",
       "      <th>1</th>\n",
       "      <td>3</td>\n",
       "      <td>11</td>\n",
       "      <td>33</td>\n",
       "      <td>1</td>\n",
       "      <td>7</td>\n",
       "      <td>136.0</td>\n",
       "      <td>5</td>\n",
       "      <td>5</td>\n",
       "      <td>0.0</td>\n",
       "      <td>0</td>\n",
       "      <td>6</td>\n",
       "      <td>4</td>\n",
       "    </tr>\n",
       "    <tr>\n",
       "      <th>2</th>\n",
       "      <td>3</td>\n",
       "      <td>68</td>\n",
       "      <td>52</td>\n",
       "      <td>1</td>\n",
       "      <td>24</td>\n",
       "      <td>116.0</td>\n",
       "      <td>1</td>\n",
       "      <td>29</td>\n",
       "      <td>0.0</td>\n",
       "      <td>1</td>\n",
       "      <td>2</td>\n",
       "      <td>3</td>\n",
       "    </tr>\n",
       "    <tr>\n",
       "      <th>3</th>\n",
       "      <td>2</td>\n",
       "      <td>33</td>\n",
       "      <td>33</td>\n",
       "      <td>0</td>\n",
       "      <td>12</td>\n",
       "      <td>33.0</td>\n",
       "      <td>2</td>\n",
       "      <td>0</td>\n",
       "      <td>0.0</td>\n",
       "      <td>1</td>\n",
       "      <td>1</td>\n",
       "      <td>1</td>\n",
       "    </tr>\n",
       "    <tr>\n",
       "      <th>4</th>\n",
       "      <td>2</td>\n",
       "      <td>23</td>\n",
       "      <td>30</td>\n",
       "      <td>1</td>\n",
       "      <td>9</td>\n",
       "      <td>30.0</td>\n",
       "      <td>1</td>\n",
       "      <td>2</td>\n",
       "      <td>0.0</td>\n",
       "      <td>0</td>\n",
       "      <td>4</td>\n",
       "      <td>3</td>\n",
       "    </tr>\n",
       "    <tr>\n",
       "      <th>5</th>\n",
       "      <td>2</td>\n",
       "      <td>41</td>\n",
       "      <td>39</td>\n",
       "      <td>0</td>\n",
       "      <td>17</td>\n",
       "      <td>78.0</td>\n",
       "      <td>2</td>\n",
       "      <td>16</td>\n",
       "      <td>0.0</td>\n",
       "      <td>1</td>\n",
       "      <td>1</td>\n",
       "      <td>3</td>\n",
       "    </tr>\n",
       "    <tr>\n",
       "      <th>6</th>\n",
       "      <td>3</td>\n",
       "      <td>45</td>\n",
       "      <td>22</td>\n",
       "      <td>1</td>\n",
       "      <td>2</td>\n",
       "      <td>19.0</td>\n",
       "      <td>2</td>\n",
       "      <td>4</td>\n",
       "      <td>0.0</td>\n",
       "      <td>1</td>\n",
       "      <td>5</td>\n",
       "      <td>2</td>\n",
       "    </tr>\n",
       "    <tr>\n",
       "      <th>7</th>\n",
       "      <td>2</td>\n",
       "      <td>38</td>\n",
       "      <td>35</td>\n",
       "      <td>0</td>\n",
       "      <td>5</td>\n",
       "      <td>76.0</td>\n",
       "      <td>2</td>\n",
       "      <td>10</td>\n",
       "      <td>0.0</td>\n",
       "      <td>0</td>\n",
       "      <td>3</td>\n",
       "      <td>4</td>\n",
       "    </tr>\n",
       "    <tr>\n",
       "      <th>8</th>\n",
       "      <td>3</td>\n",
       "      <td>45</td>\n",
       "      <td>59</td>\n",
       "      <td>1</td>\n",
       "      <td>7</td>\n",
       "      <td>166.0</td>\n",
       "      <td>4</td>\n",
       "      <td>31</td>\n",
       "      <td>0.0</td>\n",
       "      <td>0</td>\n",
       "      <td>5</td>\n",
       "      <td>3</td>\n",
       "    </tr>\n",
       "    <tr>\n",
       "      <th>9</th>\n",
       "      <td>1</td>\n",
       "      <td>68</td>\n",
       "      <td>41</td>\n",
       "      <td>1</td>\n",
       "      <td>21</td>\n",
       "      <td>72.0</td>\n",
       "      <td>1</td>\n",
       "      <td>22</td>\n",
       "      <td>0.0</td>\n",
       "      <td>0</td>\n",
       "      <td>3</td>\n",
       "      <td>2</td>\n",
       "    </tr>\n",
       "  </tbody>\n",
       "</table>\n",
       "</div>"
      ],
      "text/plain": [
       "   region  tenure  age  marital  address  income  ed  employ  retire  gender  \\\n",
       "0       2      13   44        1        9    64.0   4       5     0.0       0   \n",
       "1       3      11   33        1        7   136.0   5       5     0.0       0   \n",
       "2       3      68   52        1       24   116.0   1      29     0.0       1   \n",
       "3       2      33   33        0       12    33.0   2       0     0.0       1   \n",
       "4       2      23   30        1        9    30.0   1       2     0.0       0   \n",
       "5       2      41   39        0       17    78.0   2      16     0.0       1   \n",
       "6       3      45   22        1        2    19.0   2       4     0.0       1   \n",
       "7       2      38   35        0        5    76.0   2      10     0.0       0   \n",
       "8       3      45   59        1        7   166.0   4      31     0.0       0   \n",
       "9       1      68   41        1       21    72.0   1      22     0.0       0   \n",
       "\n",
       "   reside  custcat  \n",
       "0       2        1  \n",
       "1       6        4  \n",
       "2       2        3  \n",
       "3       1        1  \n",
       "4       4        3  \n",
       "5       1        3  \n",
       "6       5        2  \n",
       "7       3        4  \n",
       "8       5        3  \n",
       "9       3        2  "
      ]
     },
     "execution_count": 2,
     "metadata": {},
     "output_type": "execute_result"
    }
   ],
   "source": [
    "df = pd.read_csv('teleCust1000t.csv')\n",
    "df.head(10)"
   ]
  },
  {
   "cell_type": "markdown",
   "id": "730fb906-86a0-4e0e-aee6-d26be7ea76fe",
   "metadata": {},
   "source": [
    "> ## Visualización de los datos y Analisis\n",
    "\n",
    "- Veamos cuantos clientes de cada clase están en nuestro dataset"
   ]
  },
  {
   "cell_type": "code",
   "execution_count": 3,
   "id": "70acfe65-6bdd-4bd3-9afc-dd026c922659",
   "metadata": {},
   "outputs": [
    {
     "data": {
      "text/plain": [
       "3    281\n",
       "1    266\n",
       "4    236\n",
       "2    217\n",
       "Name: custcat, dtype: int64"
      ]
     },
     "execution_count": 3,
     "metadata": {},
     "output_type": "execute_result"
    }
   ],
   "source": [
    "df['custcat'].value_counts()"
   ]
  },
  {
   "cell_type": "markdown",
   "id": "478e338a-3374-4b4f-951e-be2422b4ec21",
   "metadata": {},
   "source": [
    "- Podemos ver lo siguiente **281 Plus Service, 266 Basic-service, 236 Total Service, and 217 E-Service customers**"
   ]
  },
  {
   "cell_type": "markdown",
   "id": "a190cb68-02ee-43ad-ad70-fbe6124e13ff",
   "metadata": {},
   "source": [
    "- Podemos explorar los datos usando tecnicas de visualización"
   ]
  },
  {
   "cell_type": "code",
   "execution_count": 4,
   "id": "94f90f3f-7252-4214-82d3-501ac64e59c7",
   "metadata": {},
   "outputs": [
    {
     "data": {
      "text/plain": [
       "array([[<AxesSubplot:title={'center':'income'}>]], dtype=object)"
      ]
     },
     "execution_count": 4,
     "metadata": {},
     "output_type": "execute_result"
    },
    {
     "data": {
      "image/png": "[encoded data removed]",
      "text/plain": [
       "<Figure size 432x288 with 1 Axes>"
      ]
     },
     "metadata": {
      "needs_background": "light"
     },
     "output_type": "display_data"
    }
   ],
   "source": [
    "df.hist(column='income', bins=50)"
   ]
  },
  {
   "cell_type": "code",
   "execution_count": 5,
   "id": "c21b4a60-1ca1-4350-b9b1-985f8b4930c4",
   "metadata": {},
   "outputs": [
    {
     "data": {
      "text/plain": [
       "array([[<AxesSubplot:title={'center':'region'}>]], dtype=object)"
      ]
     },
     "execution_count": 5,
     "metadata": {},
     "output_type": "execute_result"
    },
    {
     "data": {
      "image/png": "[encoded data removed]",
      "text/plain": [
       "<Figure size 432x288 with 1 Axes>"
      ]
     },
     "metadata": {
      "needs_background": "light"
     },
     "output_type": "display_data"
    }
   ],
   "source": [
    "df.hist(column='region')"
   ]
  },
  {
   "cell_type": "markdown",
   "id": "0ac68cc7-b872-4048-9b15-a2141bc76bfb",
   "metadata": {},
   "source": [
    "> ## Conjunto de características\n",
    "\n",
    "- Definimos el conjunto de caracteristicas, X:"
   ]
  },
  {
   "cell_type": "code",
   "execution_count": 6,
   "id": "188ed0fa-e533-4bcc-bdfb-8b942c35cdec",
   "metadata": {},
   "outputs": [
    {
     "data": {
      "text/plain": [
       "Index(['region', 'tenure', 'age', 'marital', 'address', 'income', 'ed',\n",
       "       'employ', 'retire', 'gender', 'reside', 'custcat'],\n",
       "      dtype='object')"
      ]
     },
     "execution_count": 6,
     "metadata": {},
     "output_type": "execute_result"
    }
   ],
   "source": [
    "df.columns"
   ]
  },
  {
   "cell_type": "markdown",
   "id": "cf2539ef-a9a1-48dc-8be0-e9dd2ed33203",
   "metadata": {},
   "source": [
    "- Para usar la libreria *scikit-learn*, tenemos que convertir los Pandas dataframe a una matriz Numpy:"
   ]
  },
  {
   "cell_type": "code",
   "execution_count": 7,
   "id": "fe59ff8a-118e-4438-86e4-d64d71ad3cae",
   "metadata": {},
   "outputs": [
    {
     "data": {
      "text/plain": [
       "array([[  2.,  13.,  44.,   1.,   9.,  64.,   4.,   5.,   0.,   0.,   2.],\n",
       "       [  3.,  11.,  33.,   1.,   7., 136.,   5.,   5.,   0.,   0.,   6.],\n",
       "       [  3.,  68.,  52.,   1.,  24., 116.,   1.,  29.,   0.,   1.,   2.],\n",
       "       [  2.,  33.,  33.,   0.,  12.,  33.,   2.,   0.,   0.,   1.,   1.],\n",
       "       [  2.,  23.,  30.,   1.,   9.,  30.,   1.,   2.,   0.,   0.,   4.]])"
      ]
     },
     "execution_count": 7,
     "metadata": {},
     "output_type": "execute_result"
    }
   ],
   "source": [
    "X = df[['region', 'tenure','age', 'marital', 'address', 'income', 'ed', 'employ','retire', 'gender', 'reside']] .values  #.astype(float)\n",
    "X[0:5]"
   ]
  },
  {
   "cell_type": "markdown",
   "id": "20ee35c4-0150-422d-8c7c-5504e4a8e383",
   "metadata": {},
   "source": [
    "- Hacemos lo mismo para las etiquetas o labels"
   ]
  },
  {
   "cell_type": "code",
   "execution_count": 9,
   "id": "4bcac256-4046-47d8-a6ef-70368ab0ffc4",
   "metadata": {},
   "outputs": [
    {
     "data": {
      "text/plain": [
       "array([1, 4, 3, 1, 3, 3, 2, 4, 3, 2], dtype=int64)"
      ]
     },
     "execution_count": 9,
     "metadata": {},
     "output_type": "execute_result"
    }
   ],
   "source": [
    "y = df['custcat'].values\n",
    "y[0:10]"
   ]
  },
  {
   "cell_type": "markdown",
   "id": "78e6a65c-412f-4921-943c-363d321612be",
   "metadata": {},
   "source": [
    "> ## Normalizamos los datos\n",
    "\n",
    "La estandarización de los datos dan a los datos una media zero, y una variance unitaria. Esta es una buena practica, especialmente para algoritmos tales como KNN el cual esta basado sobre la distancia de casos."
   ]
  },
  {
   "cell_type": "code",
   "execution_count": 12,
   "id": "cdbaedda-c4c9-4bea-a848-af5ac1cc47eb",
   "metadata": {},
   "outputs": [
    {
     "data": {
      "text/plain": [
       "array([[-0.02696767, -1.055125  ,  0.18450456,  1.0100505 , -0.25303431,\n",
       "        -0.12650641,  1.0877526 , -0.5941226 , -0.22207644, -1.03459817,\n",
       "        -0.23065004],\n",
       "       [ 1.19883553, -1.14880563, -0.69181243,  1.0100505 , -0.4514148 ,\n",
       "         0.54644972,  1.9062271 , -0.5941226 , -0.22207644, -1.03459817,\n",
       "         2.55666158],\n",
       "       [ 1.19883553,  1.52109247,  0.82182601,  1.0100505 ,  1.23481934,\n",
       "         0.35951747, -1.36767088,  1.78752803, -0.22207644,  0.96655883,\n",
       "        -0.23065004],\n",
       "       [-0.02696767, -0.11831864, -0.69181243, -0.9900495 ,  0.04453642,\n",
       "        -0.41625141, -0.54919639, -1.09029981, -0.22207644,  0.96655883,\n",
       "        -0.92747794],\n",
       "       [-0.02696767, -0.58672182, -0.93080797,  1.0100505 , -0.25303431,\n",
       "        -0.44429125, -1.36767088, -0.89182893, -0.22207644, -1.03459817,\n",
       "         1.16300577]])"
      ]
     },
     "execution_count": 12,
     "metadata": {},
     "output_type": "execute_result"
    }
   ],
   "source": [
    "X = preprocessing.StandardScaler().fit(X).transform(X.astype(float))\n",
    "X[0:5]"
   ]
  },
  {
   "cell_type": "markdown",
   "id": "d1b8afba-8f7c-4a2b-8bed-f7e9397d5aea",
   "metadata": {},
   "source": [
    "> ## Train/Test Split\n",
    "- Haciendo un *train* y *test* sobre el mismo dataset, lo mas probable es que tenga una baja presicion fuera de la muestra, debido a la probebilidad de realizar over-fit.\n",
    "\n",
    "- Es importante que nuestro modelo tenga una alta presicion fuera de la muestra, porque el proposito de cualquier modelo, por supuesto, es hacer correctas predicciones sobre datos desconocidos. Entonces para mejorar la presicion fuera de la muestra, una de las formas es usar un enfoque de evaluacion llamado **Train/Test Split**. Train/Test Split inplica dividir el dataset en entrenamiento y prueba. Este provee al modelo mejor presicion fuera de la muestra. "
   ]
  },
  {
   "cell_type": "code",
   "execution_count": 13,
   "id": "c78b814c-37c5-4ea4-a933-7e7b4ef696fb",
   "metadata": {},
   "outputs": [
    {
     "name": "stdout",
     "output_type": "stream",
     "text": [
      "Train set:  (800, 11) (800,)\n",
      "Test set:  (200, 11) (200,)\n"
     ]
    }
   ],
   "source": [
    "from sklearn.model_selection import train_test_split\n",
    "X_train, X_test, y_train, y_test = train_test_split(X, y, test_size=0.2, random_state=4)\n",
    "print('Train set: ', X_train.shape, y_train.shape)\n",
    "print('Test set: ', X_test.shape, y_test.shape)"
   ]
  },
  {
   "cell_type": "markdown",
   "id": "1914bade-c7ee-42d8-a1aa-36354dbd5382",
   "metadata": {},
   "source": [
    "> ## Clasificaciçon\n",
    "\n",
    ">### K Nearest neighbor (KNN)\n",
    "\n",
    "> #### Importando librerias requeridas"
   ]
  },
  {
   "cell_type": "code",
   "execution_count": 15,
   "id": "f8509dcc-fabe-4917-bc98-bb2ed5aa646c",
   "metadata": {},
   "outputs": [],
   "source": [
    "from sklearn.neighbors import KNeighborsClassifier"
   ]
  },
  {
   "cell_type": "markdown",
   "id": "bede08a1-df24-4ce4-b6f9-9c8686f24c53",
   "metadata": {},
   "source": [
    ">### Entrenando\n",
    "\n",
    "- Comenzaremos el algoritmo con k=4 por ahora:"
   ]
  },
  {
   "cell_type": "code",
   "execution_count": 18,
   "id": "30c148e9-9d6b-4658-b4dd-11947e403bb0",
   "metadata": {},
   "outputs": [
    {
     "data": {
      "text/plain": [
       "KNeighborsClassifier(n_neighbors=4)"
      ]
     },
     "execution_count": 18,
     "metadata": {},
     "output_type": "execute_result"
    }
   ],
   "source": [
    "k = 4\n",
    "#Train Model and Predict  \n",
    "neigh = KNeighborsClassifier(n_neighbors = k).fit(X_train,y_train)\n",
    "neigh"
   ]
  },
  {
   "cell_type": "markdown",
   "id": "3f1309cb-15ef-413e-99e7-38ac951a5ece",
   "metadata": {},
   "source": [
    ">### Prediciendo\n",
    "\n",
    "- Podemos usar el modelo para predecir el *test set*"
   ]
  },
  {
   "cell_type": "code",
   "execution_count": 19,
   "id": "1a72153f-5f9d-4890-ba5e-4050611b6fc1",
   "metadata": {},
   "outputs": [
    {
     "data": {
      "text/plain": [
       "array([1, 1, 3, 2, 4], dtype=int64)"
      ]
     },
     "execution_count": 19,
     "metadata": {},
     "output_type": "execute_result"
    }
   ],
   "source": [
    "yhat = neigh.predict(X_test)\n",
    "yhat[0:5]"
   ]
  },
  {
   "cell_type": "markdown",
   "id": "94a861b3-fe95-4489-9537-f985b0b9ff7c",
   "metadata": {},
   "source": [
    ">### Evaluacion de la presicion\n",
    "\n",
    "- En clasificacion multiclase, **accuracy classification score** es una funcion que computa la presicion del subconjunto. Esta funcion es igual a la funcion de **jaccard_similarity_score**. Esencialmente, esto calcula cuan cercano esta la etiqueta actual y la etiqueta predecida estan emparejados en el **test set**. "
   ]
  },
  {
   "cell_type": "code",
   "execution_count": 20,
   "id": "fc186ca6-9f68-41ec-b46a-fac70b8eab3d",
   "metadata": {},
   "outputs": [
    {
     "name": "stdout",
     "output_type": "stream",
     "text": [
      "Train set Accuracy:  0.5475\n",
      "Test set Accuracy:  0.32\n"
     ]
    }
   ],
   "source": [
    "from sklearn import metrics\n",
    "print(\"Train set Accuracy: \", metrics.accuracy_score(y_train, neigh.predict(X_train)))\n",
    "print(\"Test set Accuracy: \", metrics.accuracy_score(y_test, yhat))"
   ]
  },
  {
   "cell_type": "markdown",
   "id": "88e20dec-a9b6-4560-9e68-0dab7bef4e3b",
   "metadata": {},
   "source": [
    ">### Evaluacion de la presicion\n",
    "\n",
    "Construccion del modelo, pero esta ves con k = 6"
   ]
  },
  {
   "cell_type": "code",
   "execution_count": 21,
   "id": "9fdfccf3-ac59-4c0f-896d-746b373e4f9d",
   "metadata": {},
   "outputs": [
    {
     "name": "stdout",
     "output_type": "stream",
     "text": [
      "Train set Accuracy:  0.51625\n",
      "Test set Accuracy:  0.31\n"
     ]
    }
   ],
   "source": [
    "k = 6\n",
    "neigh6 = KNeighborsClassifier(n_neighbors = k).fit(X_train,y_train)\n",
    "yhat6 = neigh6.predict(X_test)\n",
    "print(\"Train set Accuracy: \", metrics.accuracy_score(y_train, neigh6.predict(X_train)))\n",
    "print(\"Test set Accuracy: \", metrics.accuracy_score(y_test, yhat6))"
   ]
  },
  {
   "cell_type": "markdown",
   "id": "a3fc67bc-3985-47bc-97d4-b38773e8bd73",
   "metadata": {},
   "source": [
    ">### Como elegir el mejor valor de K para el modelo\n",
    "\n",
    "- Para elegir el mejor valor de K para los data points, la solucion general es reservar una parte de los datos para probar la presicion del modelo. Entonces elegir k = 1, usar una parte del entrenamiento para el modelado, y calcular la presicion de las predicciones usando todas las muestras de el *test set*. Repetir este proceso, incrementando el valor de K, y ver cual K es el mejor para el modelo.\n",
    "\n",
    "- Podemos calcular la presicion del algoritmo KNN para diferentes K's."
   ]
  },
  {
   "cell_type": "code",
   "execution_count": 22,
   "id": "fd3909a7-585c-4554-8c22-9760ce2280f2",
   "metadata": {},
   "outputs": [
    {
     "data": {
      "text/plain": [
       "array([0.3  , 0.29 , 0.315, 0.32 , 0.315, 0.31 , 0.335, 0.325, 0.34 ])"
      ]
     },
     "execution_count": 22,
     "metadata": {},
     "output_type": "execute_result"
    }
   ],
   "source": [
    "Ks = 10\n",
    "mean_acc = np.zeros((Ks-1))\n",
    "std_acc = np.zeros((Ks-1))\n",
    "ConfustionMx = [];\n",
    "for n in range(1,Ks):\n",
    "    \n",
    "    #Train Model and Predict  \n",
    "    neigh = KNeighborsClassifier(n_neighbors = n).fit(X_train,y_train)\n",
    "    yhat=neigh.predict(X_test)\n",
    "    mean_acc[n-1] = metrics.accuracy_score(y_test, yhat)\n",
    "\n",
    "    \n",
    "    std_acc[n-1]=np.std(yhat==y_test)/np.sqrt(yhat.shape[0])\n",
    "\n",
    "mean_acc"
   ]
  },
  {
   "cell_type": "markdown",
   "id": "2bd5fc23-8e1f-4a4a-b0fc-805d5e67265f",
   "metadata": {},
   "source": [
    "> ### Grafico del modelo de Precision para diferentes numeros de Neighbors"
   ]
  },
  {
   "cell_type": "code",
   "execution_count": 23,
   "id": "38f5436b-b599-4c48-89d0-97b64f488292",
   "metadata": {},
   "outputs": [
    {
     "data": {
      "image/png": "[encoded data removed]",
      "text/plain": [
       "<Figure size 432x288 with 1 Axes>"
      ]
     },
     "metadata": {
      "needs_background": "light"
     },
     "output_type": "display_data"
    }
   ],
   "source": [
    "plt.plot(range(1,Ks),mean_acc,'g')\n",
    "plt.fill_between(range(1,Ks),mean_acc - 1 * std_acc,mean_acc + 1 * std_acc, alpha=0.10)\n",
    "plt.legend(('Accuracy ', '+/- 3xstd'))\n",
    "plt.ylabel('Accuracy ')\n",
    "plt.xlabel('Number of Nabors (K)')\n",
    "plt.tight_layout()\n",
    "plt.show()"
   ]
  },
  {
   "cell_type": "code",
   "execution_count": 24,
   "id": "f1743c4d-7ce0-489a-a7cc-73495cbe284c",
   "metadata": {},
   "outputs": [
    {
     "name": "stdout",
     "output_type": "stream",
     "text": [
      "El mejor accuracy fue con 0.34 with k= 9\n"
     ]
    }
   ],
   "source": [
    "print(\"El mejor accuracy fue con\", mean_acc.max(), \"with k=\", mean_acc.argmax()+1 )"
   ]
  },
  {
   "cell_type": "code",
   "execution_count": null,
   "id": "8f602e36-09b0-4270-a33d-4a2ce1a20e5d",
   "metadata": {},
   "outputs": [],
   "source": []
  }
 ],
 "metadata": {
  "kernelspec": {
   "display_name": "proyectos",
   "language": "python",
   "name": "proyectos"
  },
  "language_info": {
   "codemirror_mode": {
    "name": "ipython",
    "version": 3
   },
   "file_extension": ".py",
   "mimetype": "text/x-python",
   "name": "python",
   "nbconvert_exporter": "python",
   "pygments_lexer": "ipython3",
   "version": "3.8.11"
  }
 },
 "nbformat": 4,
 "nbformat_minor": 5
}
