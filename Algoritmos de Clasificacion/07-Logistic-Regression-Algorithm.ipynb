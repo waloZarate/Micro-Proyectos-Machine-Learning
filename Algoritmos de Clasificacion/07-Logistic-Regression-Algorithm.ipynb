{
 "cells": [
  {
   "cell_type": "markdown",
   "id": "f97b96c3-5319-41aa-a47c-ad389fb4baf8",
   "metadata": {},
   "source": [
    "> # -  Logistic Regression Algorithm with Python\n",
    "\n",
    "- En este micro-proyecto implementaremos un Algoritmo de Regresión Logistica, y luego crearemos un modelo para una compañia de Telecomunicaciones para predecir cuando los clientes podrian dejar los servicios de la empresa por un competidor, asi que la empresa puede tomar algunas acciones para retener a los clientes.\n",
    "\n"
   ]
  },
  {
   "cell_type": "markdown",
   "id": "3c8fd89d-1945-4756-bf84-ade571944e58",
   "metadata": {},
   "source": [
    "> ## - Customer churn con Regresion Logistica\n",
    "\n",
    "- Una Compañia de Telecomunicaciones esta preocupada sobre el numero de clientes saliendo de sus servicios de telefonia fija por competidores de cable. Elos necesitan conocer quien esta dejando los servicios y porque.  "
   ]
  },
  {
   "cell_type": "markdown",
   "id": "3c5a612c-9077-49ea-8628-de2b3e0e8b58",
   "metadata": {},
   "source": [
    "> ## - Primeramente importamos las librerias requeridas:"
   ]
  },
  {
   "cell_type": "code",
   "execution_count": 1,
   "id": "5ff9bfd0-fa6c-4b82-b05d-ab1a9c71a3f2",
   "metadata": {},
   "outputs": [],
   "source": [
    "import pandas as pd\n",
    "import pylab as pl\n",
    "import numpy as np\n",
    "import scipy.optimize as opt\n",
    "from sklearn import preprocessing\n",
    "%matplotlib inline\n",
    "import matplotlib.pyplot as plt"
   ]
  },
  {
   "cell_type": "markdown",
   "id": "6bb44a5e-afb3-4407-9cfe-635bee8c916b",
   "metadata": {},
   "source": [
    "> ## - Sobre el Dataset\n",
    "\n",
    "Usaremos el dataset de Telecomunicaciones para predecir la pérdida de clientes. Este dataset contiene registros historicos de los clientes donde cada fila representa un Cliente. Los datos son relativamente faciles de entender. \n",
    "\n",
    "Typicamente es menos costoso mantener clientes que adquirir nuevos clientes, asi que el enfoque de este analisis es la prediccion de clientes que permaneceran con la compañia.\n",
    "\n",
    "Este conjunto de datos provee informacion para ayudar a predecir que comportamiento a la retencion de clientes. \n",
    "\n",
    "El dataset incluye informacion sobre: \n",
    "\n",
    "- Clientes que se fueron el ultimo mes - La columna es llamada **Churn**\n",
    "- Servicios que cada cliente se ha registrado para - phone, multiple lines, internet, online security, online backup, device protection, tech support, and streaming TV and movies.\n",
    "- Informacion de cuentas de clientes - Cuanto tiempo habian sido clientes, contrato, metodo de pago, facturacion electronica, cargos mensuales y cargos totales.\n",
    "- Informacion Demografica sobre los clientes - Gender, age range, and if they have partners and dependents."
   ]
  },
  {
   "cell_type": "markdown",
   "id": "b2f1e6b8-1e09-47cd-8c5f-0041c2e31ee1",
   "metadata": {},
   "source": [
    "> ## - Carga de datos desde CSV File"
   ]
  },
  {
   "cell_type": "code",
   "execution_count": 24,
   "id": "585fefbc-4dd9-4610-b55a-3f418ecf7321",
   "metadata": {},
   "outputs": [
    {
     "data": {
      "text/html": [
       "<div>\n",
       "<style scoped>\n",
       "    .dataframe tbody tr th:only-of-type {\n",
       "        vertical-align: middle;\n",
       "    }\n",
       "\n",
       "    .dataframe tbody tr th {\n",
       "        vertical-align: top;\n",
       "    }\n",
       "\n",
       "    .dataframe thead th {\n",
       "        text-align: right;\n",
       "    }\n",
       "</style>\n",
       "<table border=\"1\" class=\"dataframe\">\n",
       "  <thead>\n",
       "    <tr style=\"text-align: right;\">\n",
       "      <th></th>\n",
       "      <th>tenure</th>\n",
       "      <th>age</th>\n",
       "      <th>address</th>\n",
       "      <th>income</th>\n",
       "      <th>ed</th>\n",
       "      <th>employ</th>\n",
       "      <th>equip</th>\n",
       "      <th>callcard</th>\n",
       "      <th>wireless</th>\n",
       "      <th>longmon</th>\n",
       "      <th>...</th>\n",
       "      <th>pager</th>\n",
       "      <th>internet</th>\n",
       "      <th>callwait</th>\n",
       "      <th>confer</th>\n",
       "      <th>ebill</th>\n",
       "      <th>loglong</th>\n",
       "      <th>logtoll</th>\n",
       "      <th>lninc</th>\n",
       "      <th>custcat</th>\n",
       "      <th>churn</th>\n",
       "    </tr>\n",
       "  </thead>\n",
       "  <tbody>\n",
       "    <tr>\n",
       "      <th>0</th>\n",
       "      <td>11.0</td>\n",
       "      <td>33.0</td>\n",
       "      <td>7.0</td>\n",
       "      <td>136.0</td>\n",
       "      <td>5.0</td>\n",
       "      <td>5.0</td>\n",
       "      <td>0.0</td>\n",
       "      <td>1.0</td>\n",
       "      <td>1.0</td>\n",
       "      <td>4.40</td>\n",
       "      <td>...</td>\n",
       "      <td>1.0</td>\n",
       "      <td>0.0</td>\n",
       "      <td>1.0</td>\n",
       "      <td>1.0</td>\n",
       "      <td>0.0</td>\n",
       "      <td>1.482</td>\n",
       "      <td>3.033</td>\n",
       "      <td>4.913</td>\n",
       "      <td>4.0</td>\n",
       "      <td>1.0</td>\n",
       "    </tr>\n",
       "    <tr>\n",
       "      <th>1</th>\n",
       "      <td>33.0</td>\n",
       "      <td>33.0</td>\n",
       "      <td>12.0</td>\n",
       "      <td>33.0</td>\n",
       "      <td>2.0</td>\n",
       "      <td>0.0</td>\n",
       "      <td>0.0</td>\n",
       "      <td>0.0</td>\n",
       "      <td>0.0</td>\n",
       "      <td>9.45</td>\n",
       "      <td>...</td>\n",
       "      <td>0.0</td>\n",
       "      <td>0.0</td>\n",
       "      <td>0.0</td>\n",
       "      <td>0.0</td>\n",
       "      <td>0.0</td>\n",
       "      <td>2.246</td>\n",
       "      <td>3.240</td>\n",
       "      <td>3.497</td>\n",
       "      <td>1.0</td>\n",
       "      <td>1.0</td>\n",
       "    </tr>\n",
       "    <tr>\n",
       "      <th>2</th>\n",
       "      <td>23.0</td>\n",
       "      <td>30.0</td>\n",
       "      <td>9.0</td>\n",
       "      <td>30.0</td>\n",
       "      <td>1.0</td>\n",
       "      <td>2.0</td>\n",
       "      <td>0.0</td>\n",
       "      <td>0.0</td>\n",
       "      <td>0.0</td>\n",
       "      <td>6.30</td>\n",
       "      <td>...</td>\n",
       "      <td>0.0</td>\n",
       "      <td>0.0</td>\n",
       "      <td>0.0</td>\n",
       "      <td>1.0</td>\n",
       "      <td>0.0</td>\n",
       "      <td>1.841</td>\n",
       "      <td>3.240</td>\n",
       "      <td>3.401</td>\n",
       "      <td>3.0</td>\n",
       "      <td>0.0</td>\n",
       "    </tr>\n",
       "    <tr>\n",
       "      <th>3</th>\n",
       "      <td>38.0</td>\n",
       "      <td>35.0</td>\n",
       "      <td>5.0</td>\n",
       "      <td>76.0</td>\n",
       "      <td>2.0</td>\n",
       "      <td>10.0</td>\n",
       "      <td>1.0</td>\n",
       "      <td>1.0</td>\n",
       "      <td>1.0</td>\n",
       "      <td>6.05</td>\n",
       "      <td>...</td>\n",
       "      <td>1.0</td>\n",
       "      <td>1.0</td>\n",
       "      <td>1.0</td>\n",
       "      <td>1.0</td>\n",
       "      <td>1.0</td>\n",
       "      <td>1.800</td>\n",
       "      <td>3.807</td>\n",
       "      <td>4.331</td>\n",
       "      <td>4.0</td>\n",
       "      <td>0.0</td>\n",
       "    </tr>\n",
       "    <tr>\n",
       "      <th>4</th>\n",
       "      <td>7.0</td>\n",
       "      <td>35.0</td>\n",
       "      <td>14.0</td>\n",
       "      <td>80.0</td>\n",
       "      <td>2.0</td>\n",
       "      <td>15.0</td>\n",
       "      <td>0.0</td>\n",
       "      <td>1.0</td>\n",
       "      <td>0.0</td>\n",
       "      <td>7.10</td>\n",
       "      <td>...</td>\n",
       "      <td>0.0</td>\n",
       "      <td>0.0</td>\n",
       "      <td>1.0</td>\n",
       "      <td>1.0</td>\n",
       "      <td>0.0</td>\n",
       "      <td>1.960</td>\n",
       "      <td>3.091</td>\n",
       "      <td>4.382</td>\n",
       "      <td>3.0</td>\n",
       "      <td>0.0</td>\n",
       "    </tr>\n",
       "  </tbody>\n",
       "</table>\n",
       "<p>5 rows × 28 columns</p>\n",
       "</div>"
      ],
      "text/plain": [
       "   tenure   age  address  income   ed  employ  equip  callcard  wireless  \\\n",
       "0    11.0  33.0      7.0   136.0  5.0     5.0    0.0       1.0       1.0   \n",
       "1    33.0  33.0     12.0    33.0  2.0     0.0    0.0       0.0       0.0   \n",
       "2    23.0  30.0      9.0    30.0  1.0     2.0    0.0       0.0       0.0   \n",
       "3    38.0  35.0      5.0    76.0  2.0    10.0    1.0       1.0       1.0   \n",
       "4     7.0  35.0     14.0    80.0  2.0    15.0    0.0       1.0       0.0   \n",
       "\n",
       "   longmon  ...  pager  internet  callwait  confer  ebill  loglong  logtoll  \\\n",
       "0     4.40  ...    1.0       0.0       1.0     1.0    0.0    1.482    3.033   \n",
       "1     9.45  ...    0.0       0.0       0.0     0.0    0.0    2.246    3.240   \n",
       "2     6.30  ...    0.0       0.0       0.0     1.0    0.0    1.841    3.240   \n",
       "3     6.05  ...    1.0       1.0       1.0     1.0    1.0    1.800    3.807   \n",
       "4     7.10  ...    0.0       0.0       1.0     1.0    0.0    1.960    3.091   \n",
       "\n",
       "   lninc  custcat  churn  \n",
       "0  4.913      4.0    1.0  \n",
       "1  3.497      1.0    1.0  \n",
       "2  3.401      3.0    0.0  \n",
       "3  4.331      4.0    0.0  \n",
       "4  4.382      3.0    0.0  \n",
       "\n",
       "[5 rows x 28 columns]"
      ]
     },
     "execution_count": 24,
     "metadata": {},
     "output_type": "execute_result"
    }
   ],
   "source": [
    "churn_df = pd.read_csv(\"ChurnData.csv\")\n",
    "churn_df.head()"
   ]
  },
  {
   "cell_type": "markdown",
   "id": "2170d440-b321-4f05-807f-5ed713fd813d",
   "metadata": {},
   "source": [
    "> ## - Pre-procesamiento de datos y Selección\n",
    "\n",
    "- Vamos a seleccionar algunas caracteristicas para el modelado. Tambien cambiaremos el tipo de dato *Objetivo* para ser *integer*, ya que es un requisito para el algoritmo sklearn:"
   ]
  },
  {
   "cell_type": "code",
   "execution_count": 25,
   "id": "ed5eb0c3-f3ad-468f-a11f-900a7997c7ec",
   "metadata": {},
   "outputs": [
    {
     "data": {
      "text/html": [
       "<div>\n",
       "<style scoped>\n",
       "    .dataframe tbody tr th:only-of-type {\n",
       "        vertical-align: middle;\n",
       "    }\n",
       "\n",
       "    .dataframe tbody tr th {\n",
       "        vertical-align: top;\n",
       "    }\n",
       "\n",
       "    .dataframe thead th {\n",
       "        text-align: right;\n",
       "    }\n",
       "</style>\n",
       "<table border=\"1\" class=\"dataframe\">\n",
       "  <thead>\n",
       "    <tr style=\"text-align: right;\">\n",
       "      <th></th>\n",
       "      <th>tenure</th>\n",
       "      <th>age</th>\n",
       "      <th>address</th>\n",
       "      <th>income</th>\n",
       "      <th>ed</th>\n",
       "      <th>employ</th>\n",
       "      <th>equip</th>\n",
       "      <th>callcard</th>\n",
       "      <th>wireless</th>\n",
       "      <th>churn</th>\n",
       "    </tr>\n",
       "  </thead>\n",
       "  <tbody>\n",
       "    <tr>\n",
       "      <th>0</th>\n",
       "      <td>11.0</td>\n",
       "      <td>33.0</td>\n",
       "      <td>7.0</td>\n",
       "      <td>136.0</td>\n",
       "      <td>5.0</td>\n",
       "      <td>5.0</td>\n",
       "      <td>0.0</td>\n",
       "      <td>1.0</td>\n",
       "      <td>1.0</td>\n",
       "      <td>1</td>\n",
       "    </tr>\n",
       "    <tr>\n",
       "      <th>1</th>\n",
       "      <td>33.0</td>\n",
       "      <td>33.0</td>\n",
       "      <td>12.0</td>\n",
       "      <td>33.0</td>\n",
       "      <td>2.0</td>\n",
       "      <td>0.0</td>\n",
       "      <td>0.0</td>\n",
       "      <td>0.0</td>\n",
       "      <td>0.0</td>\n",
       "      <td>1</td>\n",
       "    </tr>\n",
       "    <tr>\n",
       "      <th>2</th>\n",
       "      <td>23.0</td>\n",
       "      <td>30.0</td>\n",
       "      <td>9.0</td>\n",
       "      <td>30.0</td>\n",
       "      <td>1.0</td>\n",
       "      <td>2.0</td>\n",
       "      <td>0.0</td>\n",
       "      <td>0.0</td>\n",
       "      <td>0.0</td>\n",
       "      <td>0</td>\n",
       "    </tr>\n",
       "    <tr>\n",
       "      <th>3</th>\n",
       "      <td>38.0</td>\n",
       "      <td>35.0</td>\n",
       "      <td>5.0</td>\n",
       "      <td>76.0</td>\n",
       "      <td>2.0</td>\n",
       "      <td>10.0</td>\n",
       "      <td>1.0</td>\n",
       "      <td>1.0</td>\n",
       "      <td>1.0</td>\n",
       "      <td>0</td>\n",
       "    </tr>\n",
       "    <tr>\n",
       "      <th>4</th>\n",
       "      <td>7.0</td>\n",
       "      <td>35.0</td>\n",
       "      <td>14.0</td>\n",
       "      <td>80.0</td>\n",
       "      <td>2.0</td>\n",
       "      <td>15.0</td>\n",
       "      <td>0.0</td>\n",
       "      <td>1.0</td>\n",
       "      <td>0.0</td>\n",
       "      <td>0</td>\n",
       "    </tr>\n",
       "  </tbody>\n",
       "</table>\n",
       "</div>"
      ],
      "text/plain": [
       "   tenure   age  address  income   ed  employ  equip  callcard  wireless  \\\n",
       "0    11.0  33.0      7.0   136.0  5.0     5.0    0.0       1.0       1.0   \n",
       "1    33.0  33.0     12.0    33.0  2.0     0.0    0.0       0.0       0.0   \n",
       "2    23.0  30.0      9.0    30.0  1.0     2.0    0.0       0.0       0.0   \n",
       "3    38.0  35.0      5.0    76.0  2.0    10.0    1.0       1.0       1.0   \n",
       "4     7.0  35.0     14.0    80.0  2.0    15.0    0.0       1.0       0.0   \n",
       "\n",
       "   churn  \n",
       "0      1  \n",
       "1      1  \n",
       "2      0  \n",
       "3      0  \n",
       "4      0  "
      ]
     },
     "execution_count": 25,
     "metadata": {},
     "output_type": "execute_result"
    }
   ],
   "source": [
    "churn_df = churn_df[['tenure', 'age', 'address', 'income', 'ed', 'employ', 'equip',   'callcard', 'wireless','churn']]\n",
    "churn_df['churn'] = churn_df['churn'].astype('int')\n",
    "churn_df.head()"
   ]
  },
  {
   "cell_type": "markdown",
   "id": "eae434ed-3000-42c6-8ff9-1c09a0947a73",
   "metadata": {},
   "source": [
    "- Veamos cuantas filas y columnas estan en este dataset en total"
   ]
  },
  {
   "cell_type": "code",
   "execution_count": 26,
   "id": "d03c063c-e584-4ada-b0fa-5f484de19312",
   "metadata": {},
   "outputs": [
    {
     "data": {
      "text/plain": [
       "(200, 10)"
      ]
     },
     "execution_count": 26,
     "metadata": {},
     "output_type": "execute_result"
    }
   ],
   "source": [
    "churn_df.shape"
   ]
  },
  {
   "cell_type": "markdown",
   "id": "1417cc7e-d0e7-47dc-aea6-97aa5ed630b7",
   "metadata": {},
   "source": [
    "- Vamos a definir **X** y **y** para nuestro dataset"
   ]
  },
  {
   "cell_type": "code",
   "execution_count": 27,
   "id": "5cb58bfc-dd32-4486-9ca7-0a1049d93dfb",
   "metadata": {},
   "outputs": [
    {
     "data": {
      "text/plain": [
       "array([[ 11.,  33.,   7., 136.,   5.,   5.,   0.],\n",
       "       [ 33.,  33.,  12.,  33.,   2.,   0.,   0.],\n",
       "       [ 23.,  30.,   9.,  30.,   1.,   2.,   0.],\n",
       "       [ 38.,  35.,   5.,  76.,   2.,  10.,   1.],\n",
       "       [  7.,  35.,  14.,  80.,   2.,  15.,   0.]])"
      ]
     },
     "execution_count": 27,
     "metadata": {},
     "output_type": "execute_result"
    }
   ],
   "source": [
    "X = np.asarray(churn_df[['tenure', 'age', 'address', 'income', 'ed', 'employ', 'equip']])\n",
    "X[0:5]"
   ]
  },
  {
   "cell_type": "code",
   "execution_count": 28,
   "id": "b01164ba-3aae-4330-a162-19324699f3ab",
   "metadata": {},
   "outputs": [
    {
     "data": {
      "text/plain": [
       "array([1, 1, 0, 0, 0])"
      ]
     },
     "execution_count": 28,
     "metadata": {},
     "output_type": "execute_result"
    }
   ],
   "source": [
    "y = np.asarray(churn_df['churn'])\n",
    "y[0:5]"
   ]
  },
  {
   "cell_type": "markdown",
   "id": "e687fd1f-324b-43ef-8059-3c7f90f28328",
   "metadata": {},
   "source": [
    "- Ademas, normalizamos el Dataset"
   ]
  },
  {
   "cell_type": "code",
   "execution_count": 29,
   "id": "5ac19b8b-668c-480f-bae6-425bdbaca80e",
   "metadata": {},
   "outputs": [
    {
     "data": {
      "text/plain": [
       "array([[-1.14, -0.63, -0.46,  0.48,  1.7 , -0.58, -0.86],\n",
       "       [-0.12, -0.63,  0.03, -0.33, -0.64, -1.14, -0.86],\n",
       "       [-0.58, -0.86, -0.26, -0.35, -1.42, -0.92, -0.86],\n",
       "       [ 0.12, -0.47, -0.66,  0.01, -0.64, -0.03,  1.16],\n",
       "       [-1.32, -0.47,  0.23,  0.04, -0.64,  0.53, -0.86],\n",
       "       [ 1.51,  0.83,  0.53,  0.35, -1.42,  1.54, -0.86],\n",
       "       [ 0.3 , -0.09, -0.46, -0.3 , -0.64, -0.25,  1.16]])"
      ]
     },
     "execution_count": 29,
     "metadata": {},
     "output_type": "execute_result"
    }
   ],
   "source": [
    "from sklearn import preprocessing\n",
    "X = preprocessing.StandardScaler().fit(X).transform(X)\n",
    "X[0:7]"
   ]
  },
  {
   "cell_type": "markdown",
   "id": "32893dfb-3d4f-4417-9f4b-93abe635f71a",
   "metadata": {},
   "source": [
    "> ## - Train/Test dataset\n",
    "\n",
    "- Dividimos nuestro dataset en train y test set"
   ]
  },
  {
   "cell_type": "code",
   "execution_count": 30,
   "id": "458ada88-3ff9-4a25-b65f-1b60fabdb65a",
   "metadata": {},
   "outputs": [
    {
     "name": "stdout",
     "output_type": "stream",
     "text": [
      "Train set:  (160, 7) (160,)\n",
      "Test set (40, 7) (40,)\n"
     ]
    }
   ],
   "source": [
    "from sklearn.model_selection import train_test_split\n",
    "X_train, X_test, y_train, y_test = train_test_split( X, y, test_size=0.2, random_state=4)\n",
    "print('Train set: ', X_train.shape, y_train.shape)\n",
    "print('Test set', X_test.shape, y_test.shape)"
   ]
  },
  {
   "cell_type": "markdown",
   "id": "d0ba561d-8a5c-4b73-8ce6-6aac5df301a7",
   "metadata": {},
   "source": [
    "> ## - Modelado (Regresión Logistica con Scikit-learn)\n",
    "\n",
    "Vamos a construir nuestro modelo usando **LogisticRegression** desde el paquete Scikit-learn. Esta funcion implementa una Regresion Logistica y puede usar diferentes optimizadores numericos para encontrar los parametros, incluyendo solucionadores'newton-cg', 'ibfgs', 'liblinear', 'sag', 'saga'.\n",
    "\n",
    "La version de Regresion Logistica en Scikit-learn, soporta Regularizacion. La regularizacion es una tecnica usada para resolver el problema de **overfitting** en modelos de Machine Learning. "
   ]
  },
  {
   "cell_type": "code",
   "execution_count": 31,
   "id": "14cc8d78-7231-480f-acac-ac282198bee7",
   "metadata": {},
   "outputs": [
    {
     "data": {
      "text/plain": [
       "LogisticRegression(C=0.01, solver='liblinear')"
      ]
     },
     "execution_count": 31,
     "metadata": {},
     "output_type": "execute_result"
    }
   ],
   "source": [
    "from sklearn.linear_model import LogisticRegression\n",
    "from sklearn.metrics import confusion_matrix\n",
    "LR = LogisticRegression(C=0.01, solver='liblinear').fit(X_train,y_train)\n",
    "LR"
   ]
  },
  {
   "cell_type": "markdown",
   "id": "ec258c0e-79cf-4e29-aa43-de223134cd49",
   "metadata": {},
   "source": [
    "- Ahora podemos predecir usando nuestro test set:"
   ]
  },
  {
   "cell_type": "code",
   "execution_count": 32,
   "id": "2c8a4c0a-52c2-4443-a511-5c987ce4d30d",
   "metadata": {},
   "outputs": [
    {
     "data": {
      "text/plain": [
       "array([0, 0, 0, 0, 0, 0, 0, 0, 1, 0, 0, 0, 1, 1, 0, 0, 0, 1, 1, 0, 0, 0,\n",
       "       0, 0, 0, 0, 0, 0, 0, 0, 0, 0, 1, 0, 0, 0, 1, 0, 0, 0])"
      ]
     },
     "execution_count": 32,
     "metadata": {},
     "output_type": "execute_result"
    }
   ],
   "source": [
    "yhat = LR.predict(X_test)\n",
    "yhat"
   ]
  },
  {
   "cell_type": "markdown",
   "id": "b719413d-0f4e-47d0-ba52-f92e17f9fb4e",
   "metadata": {},
   "source": [
    "**predict_proba** retorna estimaciones para todas las clases, ordenados por la etiqueta de clases, asi que la primera columna es la probabilidad de clase 1, P(Y=1|X), y la segunda columna es la probabilidad de clase 0, P(Y=0|X):"
   ]
  },
  {
   "cell_type": "code",
   "execution_count": 33,
   "id": "95800392-9d73-4565-a6bf-ad54c4646db7",
   "metadata": {},
   "outputs": [
    {
     "data": {
      "text/plain": [
       "array([[0.54, 0.46],\n",
       "       [0.61, 0.39],\n",
       "       [0.56, 0.44],\n",
       "       [0.63, 0.37],\n",
       "       [0.56, 0.44],\n",
       "       [0.55, 0.45],\n",
       "       [0.52, 0.48],\n",
       "       [0.61, 0.39],\n",
       "       [0.41, 0.59],\n",
       "       [0.63, 0.37],\n",
       "       [0.58, 0.42],\n",
       "       [0.63, 0.37],\n",
       "       [0.48, 0.52],\n",
       "       [0.43, 0.57],\n",
       "       [0.66, 0.34],\n",
       "       [0.55, 0.45],\n",
       "       [0.52, 0.48],\n",
       "       [0.49, 0.51],\n",
       "       [0.49, 0.51],\n",
       "       [0.52, 0.48],\n",
       "       [0.62, 0.38],\n",
       "       [0.53, 0.47],\n",
       "       [0.64, 0.36],\n",
       "       [0.52, 0.48],\n",
       "       [0.51, 0.49],\n",
       "       [0.71, 0.29],\n",
       "       [0.55, 0.45],\n",
       "       [0.52, 0.48],\n",
       "       [0.52, 0.48],\n",
       "       [0.71, 0.29],\n",
       "       [0.68, 0.32],\n",
       "       [0.51, 0.49],\n",
       "       [0.42, 0.58],\n",
       "       [0.71, 0.29],\n",
       "       [0.6 , 0.4 ],\n",
       "       [0.64, 0.36],\n",
       "       [0.4 , 0.6 ],\n",
       "       [0.52, 0.48],\n",
       "       [0.66, 0.34],\n",
       "       [0.51, 0.49]])"
      ]
     },
     "execution_count": 33,
     "metadata": {},
     "output_type": "execute_result"
    }
   ],
   "source": [
    "yhat_prob = LR.predict_proba(X_test)\n",
    "yhat_prob"
   ]
  },
  {
   "cell_type": "markdown",
   "id": "80281395-0140-4593-b74f-209db6915420",
   "metadata": {},
   "source": [
    "> ## - Evaluación\n",
    "\n",
    "### jaccard index\n",
    "\n",
    "Probaremos jaccard index para la evaluacion de precision, podemos definir jaccard como el tamaño de la interseccion dividida pr el tamaño de la union de 2 conjunto de etiquetas. "
   ]
  },
  {
   "cell_type": "code",
   "execution_count": 34,
   "id": "2dcf78d8-f1ea-4f73-b5ed-73d2c9ff640a",
   "metadata": {},
   "outputs": [
    {
     "data": {
      "text/plain": [
       "array([0.71, 0.38])"
      ]
     },
     "execution_count": 34,
     "metadata": {},
     "output_type": "execute_result"
    }
   ],
   "source": [
    "from sklearn.metrics import jaccard_score \n",
    "jaccard_score(y_test, yhat, average=None)"
   ]
  },
  {
   "cell_type": "markdown",
   "id": "dffb951d-8077-4757-ad27-c94802339e93",
   "metadata": {},
   "source": [
    "> ## - Matriz de Confusion\n",
    "\n",
    "- Otra forma de ver la Precision de un clasificador es mirar una **Confusion Matrix**"
   ]
  },
  {
   "cell_type": "code",
   "execution_count": 35,
   "id": "b57fd2b2-436a-47c0-9daf-3c3de4b40d9d",
   "metadata": {},
   "outputs": [
    {
     "name": "stdout",
     "output_type": "stream",
     "text": [
      "[[ 6  9]\n",
      " [ 1 24]]\n"
     ]
    }
   ],
   "source": [
    "from sklearn.metrics import classification_report, confusion_matrix\n",
    "import itertools\n",
    "def plot_confusion_matrix(cm, classes,\n",
    "                          normalize=False,\n",
    "                          title='Confusion matrix',\n",
    "                          cmap=plt.cm.Blues):\n",
    "    \"\"\"\n",
    "    This function prints and plots the confusion matrix.\n",
    "    Normalization can be applied by setting `normalize=True`.\n",
    "    \"\"\"\n",
    "    if normalize:\n",
    "        cm = cm.astype('float') / cm.sum(axis=1)[:, np.newaxis]\n",
    "        print(\"Normalized confusion matrix\")\n",
    "    else:\n",
    "        print('Confusion matrix, without normalization')\n",
    "\n",
    "    print(cm)\n",
    "\n",
    "    plt.imshow(cm, interpolation='nearest', cmap=cmap)\n",
    "    plt.title(title)\n",
    "    plt.colorbar()\n",
    "    tick_marks = np.arange(len(classes))\n",
    "    plt.xticks(tick_marks, classes, rotation=45)\n",
    "    plt.yticks(tick_marks, classes)\n",
    "\n",
    "    fmt = '.2f' if normalize else 'd'\n",
    "    thresh = cm.max() / 2.\n",
    "    for i, j in itertools.product(range(cm.shape[0]), range(cm.shape[1])):\n",
    "        plt.text(j, i, format(cm[i, j], fmt),\n",
    "                 horizontalalignment=\"center\",\n",
    "                 color=\"white\" if cm[i, j] > thresh else \"black\")\n",
    "\n",
    "    plt.tight_layout()\n",
    "    plt.ylabel('True label')\n",
    "    plt.xlabel('Predicted label')\n",
    "print(confusion_matrix(y_test, yhat, labels=[1,0]))"
   ]
  },
  {
   "cell_type": "code",
   "execution_count": 36,
   "id": "0b6aed20-133a-47e7-9ceb-0c65c74cb9f7",
   "metadata": {},
   "outputs": [
    {
     "name": "stdout",
     "output_type": "stream",
     "text": [
      "Confusion matrix, without normalization\n",
      "[[ 6  9]\n",
      " [ 1 24]]\n"
     ]
    },
    {
     "data": {
      "image/png": "[encoded data removed]",
      "text/plain": [
       "<Figure size 432x288 with 2 Axes>"
      ]
     },
     "metadata": {
      "needs_background": "light"
     },
     "output_type": "display_data"
    }
   ],
   "source": [
    "# Compute confusion matrix\n",
    "cnf_matrix = confusion_matrix(y_test, yhat, labels=[1,0])\n",
    "np.set_printoptions(precision=2)\n",
    "\n",
    "#Plot non-normalized confusion matrix\n",
    "plt.figure()\n",
    "plot_confusion_matrix(cnf_matrix, classes=['churn=1','churn=0'],normalize= False,  title='Confusion matrix')"
   ]
  },
  {
   "cell_type": "markdown",
   "id": "c23a6bcd-72c3-43cb-85d8-d86acff9b9a3",
   "metadata": {},
   "source": [
    "- Veamos la primera fila. La primera fila es para clientes cuyo valor real de churn en el *test set* es 1. Como se puede calcular, fuera de los 40 clientes, el valor real de churn de 15 de ellos es 1. Y fuera de estos 15, el clasificador predijo correctamente 6 de ellos como 1, y 9 de ellos como 0.\n",
    "\n",
    "- Esto significa, que para 6 clientes, el valor real de churn fue 1 en el *test set*, y el clasificador tambien predijo correctamente estos como 1. Sin embargo, mientras la etiqueta actual de 9 clientes fue 1, el clasificador predijo estos como 0, lo cual no es muy bueno. Podemos considerar esto como error del modelo para la primera fila.\n",
    "\n",
    "- Que hay sobre los clientes con valor de churn de 0? Veamos la segunda fila. parece que hubo 25 clientes cuyo valor de churn fue 0.\n",
    "\n",
    "- El clasificador predijo correctamente 24 de ellos como 0, y uno de ellos incorrectamente como 1. Asi que ha hecho un buen trabajo en las predicciones de clientes con valor de churn 0. Algo bueno de la matriz de confusion es que muestra las habilidades del modelo para correctamente predecir o separar las clases. En casos especificos de clasificacion binaria, como en este ejemplo que podemos interpretar estos numeros como un contador de *true positives, false positives, true negatives, y false negatives*. "
   ]
  },
  {
   "cell_type": "code",
   "execution_count": 37,
   "id": "07283633-99a4-4a9d-a4ba-b4260c927efe",
   "metadata": {},
   "outputs": [
    {
     "name": "stdout",
     "output_type": "stream",
     "text": [
      "              precision    recall  f1-score   support\n",
      "\n",
      "           0       0.73      0.96      0.83        25\n",
      "           1       0.86      0.40      0.55        15\n",
      "\n",
      "    accuracy                           0.75        40\n",
      "   macro avg       0.79      0.68      0.69        40\n",
      "weighted avg       0.78      0.75      0.72        40\n",
      "\n"
     ]
    }
   ],
   "source": [
    "print(classification_report(y_test, yhat))"
   ]
  },
  {
   "cell_type": "markdown",
   "id": "1a11dd52-5178-4466-8e6f-4616ae2999b8",
   "metadata": {},
   "source": [
    "Basado en el recuento de cada seccion, podemos calcular la precision y el recall de cada etiqueta:\n",
    "\n",
    "- **Precision** es una medida de la accuracy siempre que una etiqueta de clase ha sido predecida. Esto es definido por:\n",
    "    precision = TP/(TP + FP)\n",
    "    \n",
    "- **Recall** Es la tasa de *true positive*. Esto es definido como:\n",
    "    Recall = TP / (TP + FN)\n",
    "    \n",
    "Asi es que podemos calcular la *precision* y el *recall* de cada clase.\n",
    "\n",
    "- **F1-score**: Ahora estamos en posicion de calcular el F1 scores para cada etiqueta basada en la *precision* y el  *recall* de esa etiqueta.\n",
    "\n",
    "El F1-score es un promedio armonico de la precision y el recall, donde un F1-score alcanza el mejor valor de 1 (precision y recall perfecto) y el peor como 0. Esta es un buena forma de mostrar que un clasificador tiene un buen valor para ambos *precision* y  *recall*.\n",
    "\n",
    "Y finalmente, podemos ecir el promedio de la precision para este clasificador es el promedio de el F1-score para abmas etiquetas, el cual es **0.72** en nuestro caso. \n"
   ]
  },
  {
   "cell_type": "markdown",
   "id": "3450ea72-5c21-418c-86e9-585b57091533",
   "metadata": {},
   "source": [
    "> ## - Log Loss\n",
    "\n",
    "Ahora, veamos el **log loss** para la evaluacion. En Regresion Logistica la salida puede ser la probabilidad de cliente churn es YES (o igual a 1). Esta probabilidad es un valor entre 0 y 1. Log Loss( Pérdida Logaritmica) mide el rendimiento de un clasificador donde la salida predecida es una probabilidad de valor entre 0 y 1."
   ]
  },
  {
   "cell_type": "code",
   "execution_count": 38,
   "id": "5bdbab21-1385-479b-b746-8d34b0950107",
   "metadata": {},
   "outputs": [
    {
     "data": {
      "text/plain": [
       "0.6017092478101185"
      ]
     },
     "execution_count": 38,
     "metadata": {},
     "output_type": "execute_result"
    }
   ],
   "source": [
    "from sklearn.metrics import log_loss\n",
    "log_loss(y_test, yhat_prob)"
   ]
  },
  {
   "cell_type": "markdown",
   "id": "fadf5534-2a3e-4f7d-985e-1b205eceb079",
   "metadata": {},
   "source": [
    "> ## - Practica\n",
    "\n",
    "Como una practica construiremos un modelo de Regresion Logistica de nuevo para el mismo dataset, pero esta ves, usamos diferente __solver__ y __regularization__values y mostramos un nuevo valor log loss"
   ]
  },
  {
   "cell_type": "code",
   "execution_count": 39,
   "id": "2a4ceeba-19d4-4c2f-b28a-3229ab0850f6",
   "metadata": {},
   "outputs": [
    {
     "name": "stdout",
     "output_type": "stream",
     "text": [
      "LogLoss: : 0.61\n"
     ]
    }
   ],
   "source": [
    "LR2 = LogisticRegression(C=0.01, solver='sag').fit(X_train,y_train)\n",
    "yhat_prob2 = LR2.predict_proba(X_test)\n",
    "print (\"LogLoss: : %.2f\" % log_loss(y_test, yhat_prob2))"
   ]
  },
  {
   "cell_type": "markdown",
   "id": "65c8b524-6b89-4924-bc61-106e8f41dbeb",
   "metadata": {},
   "source": [
    "- Esto finaliza la construcción de un modelo de Regresion Logistica para un determinado ejemplo de dataset"
   ]
  }
 ],
 "metadata": {
  "kernelspec": {
   "display_name": "proyectos",
   "language": "python",
   "name": "proyectos"
  },
  "language_info": {
   "codemirror_mode": {
    "name": "ipython",
    "version": 3
   },
   "file_extension": ".py",
   "mimetype": "text/x-python",
   "name": "python",
   "nbconvert_exporter": "python",
   "pygments_lexer": "ipython3",
   "version": "3.8.11"
  }
 },
 "nbformat": 4,
 "nbformat_minor": 5
}
