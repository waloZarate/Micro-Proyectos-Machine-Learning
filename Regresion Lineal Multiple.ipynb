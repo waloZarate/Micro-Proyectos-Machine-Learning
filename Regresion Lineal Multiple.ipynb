{
 "cells": [
  {
   "cell_type": "markdown",
   "id": "8ed89926-57e2-45c6-abac-d00fdacb81ef",
   "metadata": {},
   "source": [
    "> # Modelo de Regresion Lineal Simple\n",
    "\n",
    "- En este notebook se pone en práctica el uso de Scikit-learn para implementar un modelo predictivo de Regresión Lineal Multiple. Trabajaremos con el dataset relacionado con el comusomo de combustible y la emision de dioxido de carbono de automoviles. \n",
    "\n",
    "- Luego, dividiremos nuestros datos en **training** y **test sets**.\n",
    "\n",
    "- Se creará el modelo usando el **training set**, evaluaremos el modelo usando el **test set.**\n",
    "\n",
    "- Y finalmente usaremos el model para predecir valores desconocidos.\n"
   ]
  },
  {
   "cell_type": "markdown",
   "id": "bee451f8-ec1b-4457-ad19-0bb640c739d5",
   "metadata": {},
   "source": [
    "> - ### Importando los paquetes necesarios"
   ]
  },
  {
   "cell_type": "code",
   "execution_count": 6,
   "id": "0b650350-4d28-4b68-b287-4622b5e34067",
   "metadata": {},
   "outputs": [],
   "source": [
    "import matplotlib.pyplot as plt\n",
    "import pandas as pd\n",
    "import numpy as np\n",
    "import pylab as pl\n",
    "%matplotlib inline"
   ]
  },
  {
   "cell_type": "markdown",
   "id": "b0683175-3506-4388-9a59-676e975ea016",
   "metadata": {},
   "source": [
    "> ### - Dataset\n",
    "\n",
    "El conjunto de datos usado tiene como nombre FuelConsumption.csv"
   ]
  },
  {
   "cell_type": "markdown",
   "id": "c3c846f0-6dfa-4bd3-b681-2aac7eea537c",
   "metadata": {},
   "source": [
    "> ### - Entendiendo los Datos\n",
    "\n",
    "El dataset ### `FuelConsumption.csv`: contiene puntuaciones del comsumo de combustible en modelos especificos y estimaciones de la emision de dioxido de carbono de nuevos vehiculos ligeros para la venta al por menor en Canada.\n",
    "[Dataset source](http://open.canada.ca/data/en/dataset/98f1a129-f628-4ce4-b24d-6f16bf24dd64?cm_mmc=Email_Newsletter-_-Developer_Ed%2BTech-_-WW_WW-_-SkillsNetwork-Courses-IBMDeveloperSkillsNetwork-ML0101EN-Coursera-20231514&cm_mmca1=000026UJ&cm_mmca2=10006555&cm_mmca3=M12345678&cvosrc=email.Newsletter.M12345678&cvo_campaign=000026UJ&cm_mmc=Email_Newsletter-_-Developer_Ed%2BTech-_-WW_WW-_-SkillsNetwork-Courses-IBMDeveloperSkillsNetwork-ML0101EN-Coursera-20231514&cm_mmca1=000026UJ&cm_mmca2=10006555&cm_mmca3=M12345678&cvosrc=email.Newsletter.M12345678&cvo_campaign=000026UJ&cm_mmc=Email_Newsletter-_-Developer_Ed%2BTech-_-WW_WW-_-SkillsNetwork-Courses-IBMDeveloperSkillsNetwork-ML0101EN-Coursera-20231514&cm_mmca1=000026UJ&cm_mmca2=10006555&cm_mmca3=M12345678&cvosrc=email.Newsletter.M12345678&cvo_campaign=000026UJ&cm_mmc=Email_Newsletter-_-Developer_Ed%2BTech-_-WW_WW-_-SkillsNetwork-Courses-IBMDeveloperSkillsNetwork-ML0101EN-Coursera-20231514&cm_mmca1=000026UJ&cm_mmca2=10006555&cm_mmca3=M12345678&cvosrc=email.Newsletter.M12345678&cvo_campaign=000026UJ)\n"
   ]
  },
  {
   "cell_type": "markdown",
   "id": "2284119d-b73c-41ac-8f78-761b80db5398",
   "metadata": {},
   "source": [
    "> ### - Exploracion del Dataset\n",
    "\n",
    "- Primeramente leemos los dataset con pandas y mostramos las primeras cinco filas de los datos."
   ]
  },
  {
   "cell_type": "code",
   "execution_count": 7,
   "id": "886f6929-4f47-4c8d-83f3-06092fce2245",
   "metadata": {},
   "outputs": [],
   "source": [
    "df = pd.read_csv(\"FuelConsumption.csv\")"
   ]
  },
  {
   "cell_type": "markdown",
   "id": "21dc53dc-29f8-478b-bcf4-a3b913bbbd67",
   "metadata": {},
   "source": [
    "- Visualizamos las primeras 5 filas de nuestro dataset"
   ]
  },
  {
   "cell_type": "code",
   "execution_count": 8,
   "id": "d467e7b3-75af-447a-b635-75ae34514ad1",
   "metadata": {},
   "outputs": [
    {
     "data": {
      "text/html": [
       "<div>\n",
       "<style scoped>\n",
       "    .dataframe tbody tr th:only-of-type {\n",
       "        vertical-align: middle;\n",
       "    }\n",
       "\n",
       "    .dataframe tbody tr th {\n",
       "        vertical-align: top;\n",
       "    }\n",
       "\n",
       "    .dataframe thead th {\n",
       "        text-align: right;\n",
       "    }\n",
       "</style>\n",
       "<table border=\"1\" class=\"dataframe\">\n",
       "  <thead>\n",
       "    <tr style=\"text-align: right;\">\n",
       "      <th></th>\n",
       "      <th>MODELYEAR</th>\n",
       "      <th>MAKE</th>\n",
       "      <th>MODEL</th>\n",
       "      <th>VEHICLECLASS</th>\n",
       "      <th>ENGINESIZE</th>\n",
       "      <th>CYLINDERS</th>\n",
       "      <th>TRANSMISSION</th>\n",
       "      <th>FUELTYPE</th>\n",
       "      <th>FUELCONSUMPTION_CITY</th>\n",
       "      <th>FUELCONSUMPTION_HWY</th>\n",
       "      <th>FUELCONSUMPTION_COMB</th>\n",
       "      <th>FUELCONSUMPTION_COMB_MPG</th>\n",
       "      <th>CO2EMISSIONS</th>\n",
       "    </tr>\n",
       "  </thead>\n",
       "  <tbody>\n",
       "    <tr>\n",
       "      <th>0</th>\n",
       "      <td>2014</td>\n",
       "      <td>ACURA</td>\n",
       "      <td>ILX</td>\n",
       "      <td>COMPACT</td>\n",
       "      <td>2.0</td>\n",
       "      <td>4</td>\n",
       "      <td>AS5</td>\n",
       "      <td>Z</td>\n",
       "      <td>9.9</td>\n",
       "      <td>6.7</td>\n",
       "      <td>8.5</td>\n",
       "      <td>33</td>\n",
       "      <td>196</td>\n",
       "    </tr>\n",
       "    <tr>\n",
       "      <th>1</th>\n",
       "      <td>2014</td>\n",
       "      <td>ACURA</td>\n",
       "      <td>ILX</td>\n",
       "      <td>COMPACT</td>\n",
       "      <td>2.4</td>\n",
       "      <td>4</td>\n",
       "      <td>M6</td>\n",
       "      <td>Z</td>\n",
       "      <td>11.2</td>\n",
       "      <td>7.7</td>\n",
       "      <td>9.6</td>\n",
       "      <td>29</td>\n",
       "      <td>221</td>\n",
       "    </tr>\n",
       "    <tr>\n",
       "      <th>2</th>\n",
       "      <td>2014</td>\n",
       "      <td>ACURA</td>\n",
       "      <td>ILX HYBRID</td>\n",
       "      <td>COMPACT</td>\n",
       "      <td>1.5</td>\n",
       "      <td>4</td>\n",
       "      <td>AV7</td>\n",
       "      <td>Z</td>\n",
       "      <td>6.0</td>\n",
       "      <td>5.8</td>\n",
       "      <td>5.9</td>\n",
       "      <td>48</td>\n",
       "      <td>136</td>\n",
       "    </tr>\n",
       "    <tr>\n",
       "      <th>3</th>\n",
       "      <td>2014</td>\n",
       "      <td>ACURA</td>\n",
       "      <td>MDX 4WD</td>\n",
       "      <td>SUV - SMALL</td>\n",
       "      <td>3.5</td>\n",
       "      <td>6</td>\n",
       "      <td>AS6</td>\n",
       "      <td>Z</td>\n",
       "      <td>12.7</td>\n",
       "      <td>9.1</td>\n",
       "      <td>11.1</td>\n",
       "      <td>25</td>\n",
       "      <td>255</td>\n",
       "    </tr>\n",
       "    <tr>\n",
       "      <th>4</th>\n",
       "      <td>2014</td>\n",
       "      <td>ACURA</td>\n",
       "      <td>RDX AWD</td>\n",
       "      <td>SUV - SMALL</td>\n",
       "      <td>3.5</td>\n",
       "      <td>6</td>\n",
       "      <td>AS6</td>\n",
       "      <td>Z</td>\n",
       "      <td>12.1</td>\n",
       "      <td>8.7</td>\n",
       "      <td>10.6</td>\n",
       "      <td>27</td>\n",
       "      <td>244</td>\n",
       "    </tr>\n",
       "  </tbody>\n",
       "</table>\n",
       "</div>"
      ],
      "text/plain": [
       "   MODELYEAR   MAKE       MODEL VEHICLECLASS  ENGINESIZE  CYLINDERS  \\\n",
       "0       2014  ACURA         ILX      COMPACT         2.0          4   \n",
       "1       2014  ACURA         ILX      COMPACT         2.4          4   \n",
       "2       2014  ACURA  ILX HYBRID      COMPACT         1.5          4   \n",
       "3       2014  ACURA     MDX 4WD  SUV - SMALL         3.5          6   \n",
       "4       2014  ACURA     RDX AWD  SUV - SMALL         3.5          6   \n",
       "\n",
       "  TRANSMISSION FUELTYPE  FUELCONSUMPTION_CITY  FUELCONSUMPTION_HWY  \\\n",
       "0          AS5        Z                   9.9                  6.7   \n",
       "1           M6        Z                  11.2                  7.7   \n",
       "2          AV7        Z                   6.0                  5.8   \n",
       "3          AS6        Z                  12.7                  9.1   \n",
       "4          AS6        Z                  12.1                  8.7   \n",
       "\n",
       "   FUELCONSUMPTION_COMB  FUELCONSUMPTION_COMB_MPG  CO2EMISSIONS  \n",
       "0                   8.5                        33           196  \n",
       "1                   9.6                        29           221  \n",
       "2                   5.9                        48           136  \n",
       "3                  11.1                        25           255  \n",
       "4                  10.6                        27           244  "
      ]
     },
     "execution_count": 8,
     "metadata": {},
     "output_type": "execute_result"
    }
   ],
   "source": [
    "df.head()"
   ]
  },
  {
   "cell_type": "markdown",
   "id": "b5578262-85f7-4c2d-a80d-9fa018bfebba",
   "metadata": {},
   "source": [
    "- Vamos a seleccionar algunas caracteristicas que queremos usar para Regresion."
   ]
  },
  {
   "cell_type": "code",
   "execution_count": 9,
   "id": "4fe6b681-2da7-47e4-aa19-0196e59a7d38",
   "metadata": {},
   "outputs": [],
   "source": [
    "cdf = df[['ENGINESIZE','CYLINDERS','FUELCONSUMPTION_CITY','FUELCONSUMPTION_HWY','FUELCONSUMPTION_COMB','CO2EMISSIONS']]"
   ]
  },
  {
   "cell_type": "markdown",
   "id": "5a795245-e8ee-4b66-b7ff-def5650576dd",
   "metadata": {},
   "source": [
    "- Visualizamos las primeras 8 filas de las caracteristicas seleccionadas."
   ]
  },
  {
   "cell_type": "markdown",
   "id": "7678c490-dd91-4a2d-ac93-111fed4167b5",
   "metadata": {},
   "source": [
    "cdf.head(8)"
   ]
  },
  {
   "cell_type": "markdown",
   "id": "d316abe0-a5f2-469f-bd1b-4437f9fc6a30",
   "metadata": {},
   "source": [
    "- Vamos a graficar los valores de Emissions con respecto a Engine size"
   ]
  },
  {
   "cell_type": "code",
   "execution_count": 12,
   "id": "55d8fe11-3abb-4a59-95ca-d3df06751ad7",
   "metadata": {},
   "outputs": [
    {
     "data": {
      "image/png": "[encoded data removed]",
      "text/plain": [
       "<Figure size 432x288 with 1 Axes>"
      ]
     },
     "metadata": {
      "needs_background": "light"
     },
     "output_type": "display_data"
    }
   ],
   "source": [
    "plt.scatter(cdf.ENGINESIZE, cdf.CO2EMISSIONS, color='red')\n",
    "plt.xlabel(\"Engine Size\")\n",
    "plt.ylabel(\"Emissions\")\n",
    "plt.show()"
   ]
  },
  {
   "cell_type": "markdown",
   "id": "1078099e-ade7-4184-af5a-dd16509664a1",
   "metadata": {},
   "source": [
    "> ### - Creando el *train* y *test* *dataset*\n",
    "\n",
    "- Separar *Train/Test* inplica dividir el dataset en entrenamiento y prueba respectivamente, los cuales son mutuamente exclusivo. Para luego entrenar al modelo con el conjunto de entrenamiento y evaluar con el conjunto de evaluación. Esto proporcionara una mejor presición en datos fuera de la muestra, porque el *testing dataset* no es parte de el dataset que hemos estado usando para entrenar los datos. Esto es mas realista para problemas del mundo real."
   ]
  },
  {
   "cell_type": "code",
   "execution_count": 13,
   "id": "f01b0c6d-527c-4cf4-9a2d-4d25113517b3",
   "metadata": {},
   "outputs": [],
   "source": [
    "msk = np.random.rand(len(df)) < 0.8\n",
    "train = cdf[msk]\n",
    "test = cdf[~msk]"
   ]
  },
  {
   "cell_type": "markdown",
   "id": "fb6eeff4-a516-41b7-aa2f-60c0ae72700c",
   "metadata": {},
   "source": [
    "- Graficamos la distribucion del *Train data*"
   ]
  },
  {
   "cell_type": "code",
   "execution_count": 14,
   "id": "ab708732-2596-4cfd-9a54-3a581402dace",
   "metadata": {},
   "outputs": [
    {
     "data": {
      "image/png": "[encoded data removed]",
      "text/plain": [
       "<Figure size 432x288 with 1 Axes>"
      ]
     },
     "metadata": {
      "needs_background": "light"
     },
     "output_type": "display_data"
    }
   ],
   "source": [
    "plt.scatter(train.ENGINESIZE, train.CO2EMISSIONS, color='green')\n",
    "plt.xlabel(\"Engine Size\")\n",
    "plt.ylabel(\"Emissions\")\n",
    "plt.show()"
   ]
  },
  {
   "cell_type": "markdown",
   "id": "0ae5e7fb-c0ab-4692-9d35-d6e67109f5e2",
   "metadata": {},
   "source": [
    "> ### - **Modelo de Regresión Simple**\n",
    "\n",
    "En realidad, hay multiples variables que pueden predecir Co2emissions. Cuando mas de una variable independiente esta presente, el proceso es llamado Multiple Linear regression. por ejemplo predecir *CO2EMISSION* usando *FUELCONSUMPTION_COMB*, *ENGINESIZE* y *CYLINDERS* de automoviles. \n",
    "\n",
    "Lo bueno aquí es que *Multiple Linear regression* solo es la extensión del modelo *Simple Linear Regression*. "
   ]
  },
  {
   "cell_type": "code",
   "execution_count": 15,
   "id": "16c01c27-7366-43de-a5f4-a8275284f080",
   "metadata": {},
   "outputs": [
    {
     "name": "stdout",
     "output_type": "stream",
     "text": [
      "Coefficients:  [[10.47182262  7.98116848  9.30507315]]\n"
     ]
    }
   ],
   "source": [
    "from sklearn import linear_model\n",
    "regr = linear_model.LinearRegression()\n",
    "x = np.asanyarray(train[['ENGINESIZE','CYLINDERS','FUELCONSUMPTION_COMB']])\n",
    "y = np.asanyarray(train[['CO2EMISSIONS']])\n",
    "regr.fit (x, y)\n",
    "\n",
    "# Los coeficiente\n",
    "\n",
    "print('Coefficients: ', regr.coef_)"
   ]
  },
  {
   "cell_type": "markdown",
   "id": "21a02fb7-d311-4cd7-a731-a689d5252bbc",
   "metadata": {},
   "source": [
    "- Los **Coefficient** y **Intercept**, son los parametrosde la línea de ajuste. Dado que esto es un modelo Multiple Linear Regression, con 3 parametros o caracteristicas, y sabiendo que los parametros son el intercept y coefficients dl hyperplane, *sklearn* puede estimarlos de nuestros datos. Scikit-learn usa el método *Ordinary Least Squares* para resolver este problema.\n",
    "\n",
    "- ### Ordinary Least Squares (OLS)\n",
    "\n",
    "OLS es un método para estimación de parámetros desconocidos en un modelo de Regresion Lineal. OLS es un método de análisis estadístico que estima la relación entre una o más variables independientes y una variable dependiente; el método estima la relación minimizando la suma de los cuadrados en la diferencia entre los valores observados y predichos de la variable dependiente configurada como una línea recta.\n",
    "En otras palabras OLS intenta minimizar la SSE o el MSE entre la variable objetivo (y) y nuestras salidas predecidas(y hat)sobre todas las muestras en el dataset. \n",
    "\n",
    "OLS puede encontrar los mejores parametros usando los siguientes metodos: \n",
    "- soluciona los parametros del modelo analiticamente usando ecuaciones closed-form\n",
    "- Usa un algoritmo de optimización (Gradient Descent, Stochastic Gradient Descent, Newton´s Method, etc.)"
   ]
  },
  {
   "cell_type": "markdown",
   "id": "b6c6ba88-f471-4b0b-a3c4-6d526b6de43a",
   "metadata": {},
   "source": [
    "> - ###  Predicción"
   ]
  },
  {
   "cell_type": "code",
   "execution_count": 16,
   "id": "ffdb14a4-66ff-402f-9c26-af52d4e98fb4",
   "metadata": {},
   "outputs": [
    {
     "name": "stdout",
     "output_type": "stream",
     "text": [
      "Suma Residual de Cuadrados: 581.42\n",
      "Variance score: 0.87\n"
     ]
    }
   ],
   "source": [
    "y_hat = regr.predict(test[['ENGINESIZE','CYLINDERS','FUELCONSUMPTION_COMB']])\n",
    "x = np.asanyarray(test[['ENGINESIZE','CYLINDERS','FUELCONSUMPTION_COMB']])\n",
    "y = np.asanyarray(test[['CO2EMISSIONS']])\n",
    "print(\"Suma Residual de Cuadrados: %.2f\"\n",
    "      % np.mean((y_hat - y) ** 2))\n",
    "\n",
    "# Score : 1 es una prediccion perfecta\n",
    "\n",
    "print('Variance score: %.2f' % regr.score(x, y))"
   ]
  },
  {
   "cell_type": "markdown",
   "id": "d3ea4abf-7028-4a2f-a7f1-d1f2f8f92e73",
   "metadata": {},
   "source": [
    " > ### Conclusión\n",
    "- Como podemos observar el puntaje de la Varianza = 0.87, el cual demuestra que el modelo funciona con una alta presición para este problema, pudiendo ser usado para posteriores problemas donde se requiera utilizar muchas variables independientes para predecir una variable dependiente. En el modelo se pueden utilizar muchas mas variables y el modelo respondería con una presición semejante como podemos ver en el siguiente ejemplo, en el cual tomamos mas variables independientes para hacer una predicción."
   ]
  },
  {
   "cell_type": "code",
   "execution_count": 17,
   "id": "31fdb5e8-a1a9-4897-8101-eff55e398ddb",
   "metadata": {},
   "outputs": [
    {
     "name": "stdout",
     "output_type": "stream",
     "text": [
      "Coefficients:  [[10.60663883  7.62460087  5.93353435  3.10105536]]\n",
      "Residual sum of squares: 580.88\n",
      "Variance score: 0.87\n"
     ]
    }
   ],
   "source": [
    "regr = linear_model.LinearRegression()\n",
    "x = np.asanyarray(train[['ENGINESIZE','CYLINDERS','FUELCONSUMPTION_CITY','FUELCONSUMPTION_HWY']])\n",
    "y = np.asanyarray(train[['CO2EMISSIONS']])\n",
    "regr.fit (x, y)\n",
    "print ('Coefficients: ', regr.coef_)\n",
    "y_= regr.predict(test[['ENGINESIZE','CYLINDERS','FUELCONSUMPTION_CITY','FUELCONSUMPTION_HWY']])\n",
    "x = np.asanyarray(test[['ENGINESIZE','CYLINDERS','FUELCONSUMPTION_CITY','FUELCONSUMPTION_HWY']])\n",
    "y = np.asanyarray(test[['CO2EMISSIONS']])\n",
    "print(\"Residual sum of squares: %.2f\"% np.mean((y_ - y) ** 2))\n",
    "print('Variance score: %.2f' % regr.score(x, y))"
   ]
  }
 ],
 "metadata": {
  "kernelspec": {
   "display_name": "proyectos",
   "language": "python",
   "name": "proyectos"
  },
  "language_info": {
   "codemirror_mode": {
    "name": "ipython",
    "version": 3
   },
   "file_extension": ".py",
   "mimetype": "text/x-python",
   "name": "python",
   "nbconvert_exporter": "python",
   "pygments_lexer": "ipython3",
   "version": "3.8.11"
  }
 },
 "nbformat": 4,
 "nbformat_minor": 5
}
