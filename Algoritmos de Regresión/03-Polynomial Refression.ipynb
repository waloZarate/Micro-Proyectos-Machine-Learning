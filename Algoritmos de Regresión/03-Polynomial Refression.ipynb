{
 "cells": [
  {
   "cell_type": "markdown",
   "id": "f913e102-2467-40b5-952c-b267ad4279d4",
   "metadata": {},
   "source": [
    "> # Polynomial Regression\n",
    "\n",
    "- En este micro-proyecto se implementará un modelo de Regresión Polinomial. Se usará un conjunto de datos (dataset) relacionado a el consumo de combustible y la emision de Dioxido de Carbono en autos. \n",
    "\n",
    "- Para este micro-proyecto se dividirán los datos en *trainign set* y *test set*, luego finalmente usar el modelo para predecir valores desconocidos. "
   ]
  },
  {
   "cell_type": "markdown",
   "id": "9bd15722-77b4-4e97-b130-dccd657989c2",
   "metadata": {},
   "source": [
    "> ### - Importando los paquetes necesarios\n"
   ]
  },
  {
   "cell_type": "code",
   "execution_count": 1,
   "id": "98a20580-05c1-4295-b030-2683b2811a51",
   "metadata": {},
   "outputs": [],
   "source": [
    "import matplotlib.pyplot as plt\n",
    "import pandas as pd\n",
    "import pylab as pl\n",
    "import numpy as np\n",
    "%matplotlib inline"
   ]
  },
  {
   "cell_type": "markdown",
   "id": "62ad349d-f0e7-493e-af24-d1914cde07b3",
   "metadata": {},
   "source": [
    "> ### - Dataset\n",
    "\n",
    "El conjunto de datos usado tiene como nombre FuelConsumption.csv"
   ]
  },
  {
   "cell_type": "markdown",
   "id": "4f4492ab-c784-4e97-93a8-f01b2e0479e3",
   "metadata": {},
   "source": [
    "> ### - Entendiendo los Datos\n",
    "\n",
    "El dataset `FuelConsumption.csv`: contiene puntuaciones del comsumo de combustible en modelos especificos y estimaciones de la emision de dioxido de carbono de nuevos vehiculos ligeros para la venta al por menor en Canada.\n",
    "[Dataset source](http://open.canada.ca/data/en/dataset/98f1a129-f628-4ce4-b24d-6f16bf24dd64?cm_mmc=Email_Newsletter-_-Developer_Ed%2BTech-_-WW_WW-_-SkillsNetwork-Courses-IBMDeveloperSkillsNetwork-ML0101EN-Coursera-20231514&cm_mmca1=000026UJ&cm_mmca2=10006555&cm_mmca3=M12345678&cvosrc=email.Newsletter.M12345678&cvo_campaign=000026UJ&cm_mmc=Email_Newsletter-_-Developer_Ed%2BTech-_-WW_WW-_-SkillsNetwork-Courses-IBMDeveloperSkillsNetwork-ML0101EN-Coursera-20231514&cm_mmca1=000026UJ&cm_mmca2=10006555&cm_mmca3=M12345678&cvosrc=email.Newsletter.M12345678&cvo_campaign=000026UJ&cm_mmc=Email_Newsletter-_-Developer_Ed%2BTech-_-WW_WW-_-SkillsNetwork-Courses-IBMDeveloperSkillsNetwork-ML0101EN-Coursera-20231514&cm_mmca1=000026UJ&cm_mmca2=10006555&cm_mmca3=M12345678&cvosrc=email.Newsletter.M12345678&cvo_campaign=000026UJ&cm_mmc=Email_Newsletter-_-Developer_Ed%2BTech-_-WW_WW-_-SkillsNetwork-Courses-IBMDeveloperSkillsNetwork-ML0101EN-Coursera-20231514&cm_mmca1=000026UJ&cm_mmca2=10006555&cm_mmca3=M12345678&cvosrc=email.Newsletter.M12345678&cvo_campaign=000026UJ)"
   ]
  },
  {
   "cell_type": "markdown",
   "id": "82236bfe-94fd-4260-83bc-e8672aca3cb4",
   "metadata": {},
   "source": [
    "> ### - Exploracion del Dataset\n",
    "\n",
    "- Primeramente leemos los dataset con pandas y mostramos las primeras cinco filas de los datos."
   ]
  },
  {
   "cell_type": "code",
   "execution_count": 2,
   "id": "b117706c-9d4b-4cc1-9b6b-7efbcebcdd38",
   "metadata": {},
   "outputs": [],
   "source": [
    "df = pd.read_csv(\"FuelConsumption.csv\")"
   ]
  },
  {
   "cell_type": "markdown",
   "id": "bac198a8-b78a-45e5-b3d0-77416e4bd11d",
   "metadata": {},
   "source": [
    "- Visualizamos las primeras 5 filas de nuestro dataset"
   ]
  },
  {
   "cell_type": "code",
   "execution_count": 3,
   "id": "12bfecc1-614e-4c69-a11a-8385b2384d9b",
   "metadata": {},
   "outputs": [
    {
     "data": {
      "text/html": [
       "<div>\n",
       "<style scoped>\n",
       "    .dataframe tbody tr th:only-of-type {\n",
       "        vertical-align: middle;\n",
       "    }\n",
       "\n",
       "    .dataframe tbody tr th {\n",
       "        vertical-align: top;\n",
       "    }\n",
       "\n",
       "    .dataframe thead th {\n",
       "        text-align: right;\n",
       "    }\n",
       "</style>\n",
       "<table border=\"1\" class=\"dataframe\">\n",
       "  <thead>\n",
       "    <tr style=\"text-align: right;\">\n",
       "      <th></th>\n",
       "      <th>MODELYEAR</th>\n",
       "      <th>MAKE</th>\n",
       "      <th>MODEL</th>\n",
       "      <th>VEHICLECLASS</th>\n",
       "      <th>ENGINESIZE</th>\n",
       "      <th>CYLINDERS</th>\n",
       "      <th>TRANSMISSION</th>\n",
       "      <th>FUELTYPE</th>\n",
       "      <th>FUELCONSUMPTION_CITY</th>\n",
       "      <th>FUELCONSUMPTION_HWY</th>\n",
       "      <th>FUELCONSUMPTION_COMB</th>\n",
       "      <th>FUELCONSUMPTION_COMB_MPG</th>\n",
       "      <th>CO2EMISSIONS</th>\n",
       "    </tr>\n",
       "  </thead>\n",
       "  <tbody>\n",
       "    <tr>\n",
       "      <th>0</th>\n",
       "      <td>2014</td>\n",
       "      <td>ACURA</td>\n",
       "      <td>ILX</td>\n",
       "      <td>COMPACT</td>\n",
       "      <td>2.0</td>\n",
       "      <td>4</td>\n",
       "      <td>AS5</td>\n",
       "      <td>Z</td>\n",
       "      <td>9.9</td>\n",
       "      <td>6.7</td>\n",
       "      <td>8.5</td>\n",
       "      <td>33</td>\n",
       "      <td>196</td>\n",
       "    </tr>\n",
       "    <tr>\n",
       "      <th>1</th>\n",
       "      <td>2014</td>\n",
       "      <td>ACURA</td>\n",
       "      <td>ILX</td>\n",
       "      <td>COMPACT</td>\n",
       "      <td>2.4</td>\n",
       "      <td>4</td>\n",
       "      <td>M6</td>\n",
       "      <td>Z</td>\n",
       "      <td>11.2</td>\n",
       "      <td>7.7</td>\n",
       "      <td>9.6</td>\n",
       "      <td>29</td>\n",
       "      <td>221</td>\n",
       "    </tr>\n",
       "    <tr>\n",
       "      <th>2</th>\n",
       "      <td>2014</td>\n",
       "      <td>ACURA</td>\n",
       "      <td>ILX HYBRID</td>\n",
       "      <td>COMPACT</td>\n",
       "      <td>1.5</td>\n",
       "      <td>4</td>\n",
       "      <td>AV7</td>\n",
       "      <td>Z</td>\n",
       "      <td>6.0</td>\n",
       "      <td>5.8</td>\n",
       "      <td>5.9</td>\n",
       "      <td>48</td>\n",
       "      <td>136</td>\n",
       "    </tr>\n",
       "    <tr>\n",
       "      <th>3</th>\n",
       "      <td>2014</td>\n",
       "      <td>ACURA</td>\n",
       "      <td>MDX 4WD</td>\n",
       "      <td>SUV - SMALL</td>\n",
       "      <td>3.5</td>\n",
       "      <td>6</td>\n",
       "      <td>AS6</td>\n",
       "      <td>Z</td>\n",
       "      <td>12.7</td>\n",
       "      <td>9.1</td>\n",
       "      <td>11.1</td>\n",
       "      <td>25</td>\n",
       "      <td>255</td>\n",
       "    </tr>\n",
       "    <tr>\n",
       "      <th>4</th>\n",
       "      <td>2014</td>\n",
       "      <td>ACURA</td>\n",
       "      <td>RDX AWD</td>\n",
       "      <td>SUV - SMALL</td>\n",
       "      <td>3.5</td>\n",
       "      <td>6</td>\n",
       "      <td>AS6</td>\n",
       "      <td>Z</td>\n",
       "      <td>12.1</td>\n",
       "      <td>8.7</td>\n",
       "      <td>10.6</td>\n",
       "      <td>27</td>\n",
       "      <td>244</td>\n",
       "    </tr>\n",
       "  </tbody>\n",
       "</table>\n",
       "</div>"
      ],
      "text/plain": [
       "   MODELYEAR   MAKE       MODEL VEHICLECLASS  ENGINESIZE  CYLINDERS  \\\n",
       "0       2014  ACURA         ILX      COMPACT         2.0          4   \n",
       "1       2014  ACURA         ILX      COMPACT         2.4          4   \n",
       "2       2014  ACURA  ILX HYBRID      COMPACT         1.5          4   \n",
       "3       2014  ACURA     MDX 4WD  SUV - SMALL         3.5          6   \n",
       "4       2014  ACURA     RDX AWD  SUV - SMALL         3.5          6   \n",
       "\n",
       "  TRANSMISSION FUELTYPE  FUELCONSUMPTION_CITY  FUELCONSUMPTION_HWY  \\\n",
       "0          AS5        Z                   9.9                  6.7   \n",
       "1           M6        Z                  11.2                  7.7   \n",
       "2          AV7        Z                   6.0                  5.8   \n",
       "3          AS6        Z                  12.7                  9.1   \n",
       "4          AS6        Z                  12.1                  8.7   \n",
       "\n",
       "   FUELCONSUMPTION_COMB  FUELCONSUMPTION_COMB_MPG  CO2EMISSIONS  \n",
       "0                   8.5                        33           196  \n",
       "1                   9.6                        29           221  \n",
       "2                   5.9                        48           136  \n",
       "3                  11.1                        25           255  \n",
       "4                  10.6                        27           244  "
      ]
     },
     "execution_count": 3,
     "metadata": {},
     "output_type": "execute_result"
    }
   ],
   "source": [
    "df.head()"
   ]
  },
  {
   "cell_type": "markdown",
   "id": "3981b29e-00c3-4b41-825b-37f4337c0151",
   "metadata": {},
   "source": [
    "- Vamos a seleccionar algunas características que queremos usar para el problema de Regresión"
   ]
  },
  {
   "cell_type": "code",
   "execution_count": 4,
   "id": "e729d0d8-cf22-4b26-aabb-6751dcdb8911",
   "metadata": {},
   "outputs": [],
   "source": [
    "cdf = df[['ENGINESIZE','CYLINDERS','FUELCONSUMPTION_COMB','CO2EMISSIONS']]"
   ]
  },
  {
   "cell_type": "markdown",
   "id": "5629a6d7-cfb9-40ad-aece-874637d1f940",
   "metadata": {},
   "source": [
    "- Vamos a ver los primeros 8 ejemplos de las caracteristicas seleccionadas"
   ]
  },
  {
   "cell_type": "code",
   "execution_count": 5,
   "id": "56b4108a-a78f-44da-be89-e476fe088b18",
   "metadata": {},
   "outputs": [
    {
     "data": {
      "text/html": [
       "<div>\n",
       "<style scoped>\n",
       "    .dataframe tbody tr th:only-of-type {\n",
       "        vertical-align: middle;\n",
       "    }\n",
       "\n",
       "    .dataframe tbody tr th {\n",
       "        vertical-align: top;\n",
       "    }\n",
       "\n",
       "    .dataframe thead th {\n",
       "        text-align: right;\n",
       "    }\n",
       "</style>\n",
       "<table border=\"1\" class=\"dataframe\">\n",
       "  <thead>\n",
       "    <tr style=\"text-align: right;\">\n",
       "      <th></th>\n",
       "      <th>ENGINESIZE</th>\n",
       "      <th>CYLINDERS</th>\n",
       "      <th>FUELCONSUMPTION_COMB</th>\n",
       "      <th>CO2EMISSIONS</th>\n",
       "    </tr>\n",
       "  </thead>\n",
       "  <tbody>\n",
       "    <tr>\n",
       "      <th>0</th>\n",
       "      <td>2.0</td>\n",
       "      <td>4</td>\n",
       "      <td>8.5</td>\n",
       "      <td>196</td>\n",
       "    </tr>\n",
       "    <tr>\n",
       "      <th>1</th>\n",
       "      <td>2.4</td>\n",
       "      <td>4</td>\n",
       "      <td>9.6</td>\n",
       "      <td>221</td>\n",
       "    </tr>\n",
       "    <tr>\n",
       "      <th>2</th>\n",
       "      <td>1.5</td>\n",
       "      <td>4</td>\n",
       "      <td>5.9</td>\n",
       "      <td>136</td>\n",
       "    </tr>\n",
       "    <tr>\n",
       "      <th>3</th>\n",
       "      <td>3.5</td>\n",
       "      <td>6</td>\n",
       "      <td>11.1</td>\n",
       "      <td>255</td>\n",
       "    </tr>\n",
       "    <tr>\n",
       "      <th>4</th>\n",
       "      <td>3.5</td>\n",
       "      <td>6</td>\n",
       "      <td>10.6</td>\n",
       "      <td>244</td>\n",
       "    </tr>\n",
       "    <tr>\n",
       "      <th>5</th>\n",
       "      <td>3.5</td>\n",
       "      <td>6</td>\n",
       "      <td>10.0</td>\n",
       "      <td>230</td>\n",
       "    </tr>\n",
       "    <tr>\n",
       "      <th>6</th>\n",
       "      <td>3.5</td>\n",
       "      <td>6</td>\n",
       "      <td>10.1</td>\n",
       "      <td>232</td>\n",
       "    </tr>\n",
       "    <tr>\n",
       "      <th>7</th>\n",
       "      <td>3.7</td>\n",
       "      <td>6</td>\n",
       "      <td>11.1</td>\n",
       "      <td>255</td>\n",
       "    </tr>\n",
       "  </tbody>\n",
       "</table>\n",
       "</div>"
      ],
      "text/plain": [
       "   ENGINESIZE  CYLINDERS  FUELCONSUMPTION_COMB  CO2EMISSIONS\n",
       "0         2.0          4                   8.5           196\n",
       "1         2.4          4                   9.6           221\n",
       "2         1.5          4                   5.9           136\n",
       "3         3.5          6                  11.1           255\n",
       "4         3.5          6                  10.6           244\n",
       "5         3.5          6                  10.0           230\n",
       "6         3.5          6                  10.1           232\n",
       "7         3.7          6                  11.1           255"
      ]
     },
     "execution_count": 5,
     "metadata": {},
     "output_type": "execute_result"
    }
   ],
   "source": [
    "cdf.head(8)"
   ]
  },
  {
   "cell_type": "markdown",
   "id": "4fe22a4c-9551-4327-b2aa-caf48082ac0d",
   "metadata": {},
   "source": [
    "- Vamos a graficar los valores de Emission con respecto a Engine Size:"
   ]
  },
  {
   "cell_type": "code",
   "execution_count": 6,
   "id": "e8fba1d2-87c0-4089-9a4e-56c0807d8b46",
   "metadata": {},
   "outputs": [
    {
     "data": {
      "image/png": "[encoded data removed]",
      "text/plain": [
       "<Figure size 432x288 with 1 Axes>"
      ]
     },
     "metadata": {
      "needs_background": "light"
     },
     "output_type": "display_data"
    }
   ],
   "source": [
    "plt.scatter(cdf.ENGINESIZE, cdf.CO2EMISSIONS, color='blue')\n",
    "plt.xlabel(\"Engine Size\")\n",
    "plt.ylabel(\"Emission\")\n",
    "plt.show()"
   ]
  },
  {
   "cell_type": "markdown",
   "id": "7c5cc651-5b2c-45dd-967e-2f3864afdd65",
   "metadata": {},
   "source": [
    "> ### - Creando el *train* y *test* *dataset*\n",
    "\n",
    "- Separar *Train/Test* inplica dividir el dataset en entrenamiento y prueba respectivamente, los cuales son mutuamente exclusivo. Para luego entrenar al modelo con el conjunto de entrenamiento y evaluar con el conjunto de evaluación. Esto proporcionara una mejor presición en datos fuera de la muestra, porque el *testing dataset* no es parte de el dataset que hemos estado usando para entrenar los datos. Esto es mas realista para problemas del mundo real."
   ]
  },
  {
   "cell_type": "code",
   "execution_count": 7,
   "id": "1eb106e3-af1b-4f0f-82fe-83beeb047985",
   "metadata": {},
   "outputs": [],
   "source": [
    "msk = np.random.rand(len(df)) < 0.8\n",
    "train = cdf[msk]\n",
    "test = cdf[~msk]"
   ]
  },
  {
   "cell_type": "markdown",
   "id": "7270b181-d4c6-4214-9d06-5052d86fe3e2",
   "metadata": {},
   "source": [
    "> ## - Polynomial Regression"
   ]
  },
  {
   "cell_type": "markdown",
   "id": "ff188e03-b2f9-42a1-b24f-008b4608fbbc",
   "metadata": {},
   "source": [
    "- A menudo, la tendencia de los datos no es realmente lineal, sino más bien tiene una tendencia curvilinea. En estos casos podemos usar el metodo de Regresion Polinomial. De hecho, existen diferentes regressiones que pueden ser usados para ajustar un determinado conjunto de datos a la forma que puedan tener esos datos, tales como funciones cuadráticas, cúbicas y asi sucesivamente y puede continuar hasta grados infinitos.\n",
    "\n",
    "- En esencia podemos llamar a todos estos tipos de funciones que representan los datos Polynomial Regression, donde la relación entre la variable independiente **x** y la variable dependiente **y** es modelado como polinomio de \"n\" grados en x. Suponiendo que quiera tener un Polynomial Regression de grado 2.\n",
    "\n",
    "$y = b + theta_1  x + theta_2 x^2$\n",
    "\n",
    "Ahora, para ajustar nuestros datos en esta ecuación, podemos crear unas características adicionales: 1, $x$, and $x^2$\n",
    "\n",
    "Con la libreria Scikit-learn podemos utilizar la funcion **PloynomialFeatures()**, para manipular un nuevo conjunto de características a partir de el conjunto de caracteristicas original. Es decir, se generará una matriz que consta de toda la combinacion de polinomios de las caracteristicas con grado menor o igual al grado especificado. Por ejemplo, digamos que el conjunto de caracteristicas original tiene solo una caracteristica ENGINESIZE. Ahora, si seleccionamos un grado de polinomio que puede ser 2, entonces la funcion genera 3 caracteristicas, degree = 0, degree = 1 y degree = 2: "
   ]
  },
  {
   "cell_type": "code",
   "execution_count": 8,
   "id": "0798933f-986c-4fde-9f78-6dd8228d8a61",
   "metadata": {},
   "outputs": [
    {
     "data": {
      "text/plain": [
       "array([[ 1.  ,  2.  ,  4.  ],\n",
       "       [ 1.  ,  2.4 ,  5.76],\n",
       "       [ 1.  ,  3.5 , 12.25],\n",
       "       ...,\n",
       "       [ 1.  ,  3.  ,  9.  ],\n",
       "       [ 1.  ,  3.2 , 10.24],\n",
       "       [ 1.  ,  3.2 , 10.24]])"
      ]
     },
     "execution_count": 8,
     "metadata": {},
     "output_type": "execute_result"
    }
   ],
   "source": [
    "from sklearn.preprocessing import PolynomialFeatures\n",
    "from sklearn import linear_model\n",
    "train_x = np.asanyarray(train[['ENGINESIZE']])\n",
    "train_y = np.asanyarray(train[['CO2EMISSIONS']])\n",
    "\n",
    "test_x = np.asanyarray(test[['ENGINESIZE']])\n",
    "test_y = np.asanyarray(test[['CO2EMISSIONS']])\n",
    "\n",
    "\n",
    "poly = PolynomialFeatures(degree=2)\n",
    "train_x_poly = poly.fit_transform(train_x)\n",
    "train_x_poly"
   ]
  },
  {
   "cell_type": "markdown",
   "id": "0f1a5e8e-e68a-428b-9f3d-233ee33d635b",
   "metadata": {},
   "source": [
    "**fit_transform** ajusta los datos y luego los transforma; toma nuestros valores x, y genera una lista de nuestros datos del grado 0 al grado 2, el cual establece el grado a nuestro polinomio a 2.\n",
    "\n",
    "Por lo tanto, la funcion fit_transform, eleva al grado elegido las caracteristicas y retorna un conjunto de caracteristicas que se ve igual a un analisis de Regresion Lineal Multiple, lo es, de hecho, la Regresion Polinomial es solo un caso especial de Regresion Lineal, con la principal idea de como selecionar las caracteristicas. Solo considera reemplazar $x$ con $x_1$, $x_1^2$ con $x_2$, y asi sucesivamente. Luego la ecuación de grado 2 se convertirá en: \n",
    "\n",
    "$y = b + theta_1  x_1 + theta_2 x_2$\n",
    "\n",
    "Ahora podemos tratar con esto como un problema de \"Regresion Lineal\". Por lo tanto La Regresion Polinomial es considerada un caso especial del tradicional Multiple Linear Regression. Asi que se puede utilizar el mismo procedimiento que en una Regresion lineal para solucionar problemas de Regression Polunomial."
   ]
  },
  {
   "cell_type": "code",
   "execution_count": 9,
   "id": "89cda1de-fbbd-418a-b817-9317aa9c11f3",
   "metadata": {},
   "outputs": [
    {
     "name": "stdout",
     "output_type": "stream",
     "text": [
      "Coefficients:  [[ 0.         51.3967555  -1.57165314]]\n",
      "Intercept:  [105.07887481]\n"
     ]
    }
   ],
   "source": [
    "clf = linear_model.LinearRegression()\n",
    "train_y_ = clf.fit(train_x_poly, train_y)\n",
    "# The coefficients\n",
    "print ('Coefficients: ', clf.coef_)\n",
    "print ('Intercept: ',clf.intercept_)"
   ]
  },
  {
   "cell_type": "markdown",
   "id": "6d3424ac-a8bb-41c3-9fcd-1ea88fbcc606",
   "metadata": {},
   "source": [
    "- COmo se menciono antes, **Coefficients** y **Intercept**, son los parametros del ajuste de la linea curva. Dado que esto es una Regresion Lineal Multiple tipico, con 3 parametros, y conociendo que los parametros son el Intercep y Coefficients de un hiperplano, sklearn los estima de nuestro nuevo conjunto de caracteristicas. Vamos a graficarlos:"
   ]
  },
  {
   "cell_type": "code",
   "execution_count": 10,
   "id": "4ec0f830-39b7-4a4e-9fc4-69029945e861",
   "metadata": {},
   "outputs": [
    {
     "data": {
      "text/plain": [
       "Text(0, 0.5, 'Emission')"
      ]
     },
     "execution_count": 10,
     "metadata": {},
     "output_type": "execute_result"
    },
    {
     "data": {
      "image/png": "[encoded data removed]",
      "text/plain": [
       "<Figure size 432x288 with 1 Axes>"
      ]
     },
     "metadata": {
      "needs_background": "light"
     },
     "output_type": "display_data"
    }
   ],
   "source": [
    "plt.scatter(train.ENGINESIZE, train.CO2EMISSIONS,  color='blue')\n",
    "XX = np.arange(0.0, 10.0, 0.1)\n",
    "yy = clf.intercept_[0]+ clf.coef_[0][1]*XX+ clf.coef_[0][2]*np.power(XX, 2)\n",
    "plt.plot(XX, yy, '-r' )\n",
    "plt.xlabel(\"Engine size\")\n",
    "plt.ylabel(\"Emission\")"
   ]
  },
  {
   "cell_type": "markdown",
   "id": "b347ac0a-9207-440b-aaf5-c36841bb7d58",
   "metadata": {},
   "source": [
    "> ## - Evaluación"
   ]
  },
  {
   "cell_type": "code",
   "execution_count": 11,
   "id": "1f88cf6c-8f61-4fd5-8839-5142b73b7ecd",
   "metadata": {},
   "outputs": [
    {
     "name": "stdout",
     "output_type": "stream",
     "text": [
      "Mean absolute error: 22.80\n",
      "Residual sum of squares (MSE): 812.33\n",
      "R2-score: 0.73\n"
     ]
    }
   ],
   "source": [
    "from sklearn.metrics import r2_score\n",
    "\n",
    "test_x_poly = poly.fit_transform(test_x)\n",
    "test_y_ = clf.predict(test_x_poly)\n",
    "\n",
    "print(\"Mean absolute error: %.2f\" % np.mean(np.absolute(test_y_ - test_y)))\n",
    "print(\"Residual sum of squares (MSE): %.2f\" % np.mean((test_y_ - test_y) ** 2))\n",
    "print(\"R2-score: %.2f\" % r2_score(test_y_ , test_y) )"
   ]
  },
  {
   "cell_type": "markdown",
   "id": "83df88e0-3329-4389-9ce5-791db1da66e0",
   "metadata": {},
   "source": [
    "> ## - Práctica\n",
    "\n",
    "Con el mismo conjunto de datos trazar una Regresion Polynomial de grado 3 (cubico)."
   ]
  },
  {
   "cell_type": "code",
   "execution_count": 12,
   "id": "9ce98a9a-5def-4da9-820b-0ba83183305e",
   "metadata": {},
   "outputs": [
    {
     "name": "stdout",
     "output_type": "stream",
     "text": [
      "Coefficients:  [[ 0.         20.83571313  6.7892535  -0.68850208]]\n",
      "Intercept:  [137.76356298]\n",
      "Mean absolute error: 22.99\n",
      "Residual sum of squares (MSE): 830.65\n",
      "R2-score: 0.72\n"
     ]
    },
    {
     "data": {
      "image/png": "[encoded data removed]",
      "text/plain": [
       "<Figure size 432x288 with 1 Axes>"
      ]
     },
     "metadata": {
      "needs_background": "light"
     },
     "output_type": "display_data"
    }
   ],
   "source": [
    "poly3 = PolynomialFeatures(degree=3)\n",
    "train_x_poly3 = poly3.fit_transform(train_x)\n",
    "clf3 = linear_model.LinearRegression()\n",
    "train_y3_ = clf3.fit(train_x_poly3, train_y)\n",
    "\n",
    "#los Coeficientes\n",
    "\n",
    "print('Coefficients: ', clf3.coef_)\n",
    "print('Intercept: ', clf3.intercept_)\n",
    "plt.scatter(train.ENGINESIZE, train.CO2EMISSIONS, color='blue')\n",
    "XX = np.arange(0.0, 10.0, 0.1)\n",
    "yy = clf3.intercept_[0]+ clf3.coef_[0][1]*XX + clf3.coef_[0][2]*np.power(XX, 2) + clf3.coef_[0][3]*np.power(XX, 3)\n",
    "plt.plot(XX, yy, '-r' )\n",
    "plt.xlabel(\"Engine size\")\n",
    "plt.ylabel(\"Emission\")\n",
    "test_x_poly3 = poly3.fit_transform(test_x)\n",
    "test_y3_ = clf3.predict(test_x_poly3)\n",
    "print(\"Mean absolute error: %.2f\" % np.mean(np.absolute(test_y3_ - test_y)))\n",
    "print(\"Residual sum of squares (MSE): %.2f\" % np.mean((test_y3_ - test_y) ** 2))\n",
    "print(\"R2-score: %.2f\" % r2_score(test_y3_ , test_y) )"
   ]
  },
  {
   "cell_type": "markdown",
   "id": "87c5177e-fb21-4486-b353-b541a79a35ca",
   "metadata": {},
   "source": [
    "- Se concluye que para solucionar problemas de Regresion Polinomial,lo unico que se debe hacer es ajustar las caracteristicas y transformarlas con la funcion **fit_transform** de sklearn, esto retorna una función tipica de REgresion Lineal Multiple, y su mecanismo de resolución es el mismo."
   ]
  },
  {
   "cell_type": "code",
   "execution_count": null,
   "id": "6d531279-2139-4846-bedc-f049a18a93a9",
   "metadata": {},
   "outputs": [],
   "source": []
  }
 ],
 "metadata": {
  "kernelspec": {
   "display_name": "proyectos",
   "language": "python",
   "name": "proyectos"
  },
  "language_info": {
   "codemirror_mode": {
    "name": "ipython",
    "version": 3
   },
   "file_extension": ".py",
   "mimetype": "text/x-python",
   "name": "python",
   "nbconvert_exporter": "python",
   "pygments_lexer": "ipython3",
   "version": "3.8.11"
  }
 },
 "nbformat": 4,
 "nbformat_minor": 5
}
